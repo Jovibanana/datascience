{
 "cells": [
  {
   "cell_type": "code",
   "execution_count": 9,
   "id": "4e198cd8",
   "metadata": {
    "scrolled": true
   },
   "outputs": [
    {
     "name": "stdout",
     "output_type": "stream",
     "text": [
      "Hello, world!\n"
     ]
    }
   ],
   "source": [
    "print('Hello, world!')"
   ]
  },
  {
   "cell_type": "code",
   "execution_count": 15,
   "id": "49dcc13c",
   "metadata": {},
   "outputs": [
    {
     "name": "stdout",
     "output_type": "stream",
     "text": [
      "wech\n",
      "cava?\n",
      "\n"
     ]
    }
   ],
   "source": [
    "print('wech\\ncava?\\n')"
   ]
  },
  {
   "cell_type": "code",
   "execution_count": 20,
   "id": "f7bf86f2",
   "metadata": {},
   "outputs": [
    {
     "name": "stdout",
     "output_type": "stream",
     "text": [
      "gomycode\n"
     ]
    }
   ],
   "source": [
    "print('go'+''+'my'+'code')"
   ]
  },
  {
   "cell_type": "code",
   "execution_count": 28,
   "id": "33a73a0c",
   "metadata": {},
   "outputs": [
    {
     "ename": "KeyboardInterrupt",
     "evalue": "Interrupted by user",
     "output_type": "error",
     "traceback": [
      "\u001b[1;31m---------------------------------------------------------------------------\u001b[0m",
      "\u001b[1;31mKeyboardInterrupt\u001b[0m                         Traceback (most recent call last)",
      "Cell \u001b[1;32mIn[28], line 1\u001b[0m\n\u001b[1;32m----> 1\u001b[0m \u001b[38;5;28minput\u001b[39m(\u001b[38;5;124m'\u001b[39m\u001b[38;5;124mwhats your name?\u001b[39m\u001b[38;5;124m'\u001b[39m)\n",
      "File \u001b[1;32m~\\anaconda3\\Lib\\site-packages\\ipykernel\\kernelbase.py:1202\u001b[0m, in \u001b[0;36mKernel.raw_input\u001b[1;34m(self, prompt)\u001b[0m\n\u001b[0;32m   1200\u001b[0m     msg \u001b[38;5;241m=\u001b[39m \u001b[38;5;124m\"\u001b[39m\u001b[38;5;124mraw_input was called, but this frontend does not support input requests.\u001b[39m\u001b[38;5;124m\"\u001b[39m\n\u001b[0;32m   1201\u001b[0m     \u001b[38;5;28;01mraise\u001b[39;00m StdinNotImplementedError(msg)\n\u001b[1;32m-> 1202\u001b[0m \u001b[38;5;28;01mreturn\u001b[39;00m \u001b[38;5;28mself\u001b[39m\u001b[38;5;241m.\u001b[39m_input_request(\n\u001b[0;32m   1203\u001b[0m     \u001b[38;5;28mstr\u001b[39m(prompt),\n\u001b[0;32m   1204\u001b[0m     \u001b[38;5;28mself\u001b[39m\u001b[38;5;241m.\u001b[39m_parent_ident[\u001b[38;5;124m\"\u001b[39m\u001b[38;5;124mshell\u001b[39m\u001b[38;5;124m\"\u001b[39m],\n\u001b[0;32m   1205\u001b[0m     \u001b[38;5;28mself\u001b[39m\u001b[38;5;241m.\u001b[39mget_parent(\u001b[38;5;124m\"\u001b[39m\u001b[38;5;124mshell\u001b[39m\u001b[38;5;124m\"\u001b[39m),\n\u001b[0;32m   1206\u001b[0m     password\u001b[38;5;241m=\u001b[39m\u001b[38;5;28;01mFalse\u001b[39;00m,\n\u001b[0;32m   1207\u001b[0m )\n",
      "File \u001b[1;32m~\\anaconda3\\Lib\\site-packages\\ipykernel\\kernelbase.py:1245\u001b[0m, in \u001b[0;36mKernel._input_request\u001b[1;34m(self, prompt, ident, parent, password)\u001b[0m\n\u001b[0;32m   1242\u001b[0m \u001b[38;5;28;01mexcept\u001b[39;00m \u001b[38;5;167;01mKeyboardInterrupt\u001b[39;00m:\n\u001b[0;32m   1243\u001b[0m     \u001b[38;5;66;03m# re-raise KeyboardInterrupt, to truncate traceback\u001b[39;00m\n\u001b[0;32m   1244\u001b[0m     msg \u001b[38;5;241m=\u001b[39m \u001b[38;5;124m\"\u001b[39m\u001b[38;5;124mInterrupted by user\u001b[39m\u001b[38;5;124m\"\u001b[39m\n\u001b[1;32m-> 1245\u001b[0m     \u001b[38;5;28;01mraise\u001b[39;00m \u001b[38;5;167;01mKeyboardInterrupt\u001b[39;00m(msg) \u001b[38;5;28;01mfrom\u001b[39;00m \u001b[38;5;28;01mNone\u001b[39;00m\n\u001b[0;32m   1246\u001b[0m \u001b[38;5;28;01mexcept\u001b[39;00m \u001b[38;5;167;01mException\u001b[39;00m:\n\u001b[0;32m   1247\u001b[0m     \u001b[38;5;28mself\u001b[39m\u001b[38;5;241m.\u001b[39mlog\u001b[38;5;241m.\u001b[39mwarning(\u001b[38;5;124m\"\u001b[39m\u001b[38;5;124mInvalid Message:\u001b[39m\u001b[38;5;124m\"\u001b[39m, exc_info\u001b[38;5;241m=\u001b[39m\u001b[38;5;28;01mTrue\u001b[39;00m)\n",
      "\u001b[1;31mKeyboardInterrupt\u001b[0m: Interrupted by user"
     ]
    }
   ],
   "source": [
    "input('whats your name?')"
   ]
  },
  {
   "cell_type": "code",
   "execution_count": 26,
   "id": "e5898e73",
   "metadata": {},
   "outputs": [
    {
     "name": "stdout",
     "output_type": "stream",
     "text": [
      "whats your name?jhbkjb\n"
     ]
    },
    {
     "data": {
      "text/plain": [
       "'jhbkjb'"
      ]
     },
     "execution_count": 26,
     "metadata": {},
     "output_type": "execute_result"
    }
   ],
   "source": [
    "input('whats your name?')"
   ]
  },
  {
   "cell_type": "code",
   "execution_count": 30,
   "id": "ed63a752",
   "metadata": {},
   "outputs": [
    {
     "name": "stdout",
     "output_type": "stream",
     "text": [
      "Day 1 - String Manipulation\n",
      "String Concatenation is done with the \"+\" sign.\n",
      "e.g. print(\"Hello \" + \"world\")\n",
      "New lines can be created with a backslash and n.\n"
     ]
    }
   ],
   "source": [
    "print('Day 1 - String Manipulation')\n",
    "print('String Concatenation is done with the \"+\" sign.')\n",
    "print('e.g. print(\"Hello \" + \"world\")')\n",
    "print('New lines can be created with a backslash and n.')"
   ]
  },
  {
   "cell_type": "code",
   "execution_count": 38,
   "id": "e79a68a4",
   "metadata": {},
   "outputs": [
    {
     "name": "stdout",
     "output_type": "stream",
     "text": [
      "Entrez un nombre0\n",
      "ce numero est non positif\n"
     ]
    }
   ],
   "source": [
    "num=int(input('Entrez un nombre'))\n",
    "if num >0:\n",
    "    print('Ce numero est positif')\n",
    "else:\n",
    "    print('ce numero est non positif')"
   ]
  },
  {
   "cell_type": "code",
   "execution_count": 41,
   "id": "567f0995",
   "metadata": {},
   "outputs": [
    {
     "name": "stdout",
     "output_type": "stream",
     "text": [
      "Entrez un nombre-2\n",
      "Ce nombre est negatif\n"
     ]
    }
   ],
   "source": [
    "num=int(input('Entrez un nombre'))\n",
    "if num>=0:\n",
    "    print('Ce nombre est positif')\n",
    "else:\n",
    "    print('Ce nombre est negatif')"
   ]
  },
  {
   "cell_type": "code",
   "execution_count": 17,
   "id": "f575e598",
   "metadata": {},
   "outputs": [
    {
     "name": "stdout",
     "output_type": "stream",
     "text": [
      "Entrez la note16\n",
      "trés bien\n"
     ]
    }
   ],
   "source": [
    "num=float(input('Entrez la note'))\n",
    "if num>15:\n",
    "    print('trés bien')\n",
    "elif num>13:\n",
    "    print('bien')\n",
    "elif num>10:\n",
    "    print('moyen')\n",
    "else:\n",
    "    print('pas bien')"
   ]
  },
  {
   "cell_type": "code",
   "execution_count": 16,
   "id": "0dda78d1",
   "metadata": {},
   "outputs": [
    {
     "name": "stdout",
     "output_type": "stream",
     "text": [
      "Renseignez la note16\n",
      "Est t-il insrict a une activité sportive?oui\n",
      "très bien\n",
      "la note est: 17.0\n"
     ]
    }
   ],
   "source": [
    "x=float(input('Renseignez la note'))\n",
    "y=input('Est t-il insrict a une activité sportive?')\n",
    "\n",
    "if x>10:\n",
    "    if y==\"oui\":\n",
    "        x=x+1\n",
    "    print(\"très bien\")\n",
    "elif x<10 and y==\"non\":\n",
    "    print('nul')\n",
    "elif x<10 and y==\"oui\":\n",
    "    x=x+1\n",
    "    print('nul')\n",
    "else:\n",
    "    print('trés bien')\n",
    "print(\"la note est:\",x)"
   ]
  },
  {
   "cell_type": "code",
   "execution_count": 43,
   "id": "7cf58a12",
   "metadata": {},
   "outputs": [
    {
     "name": "stdout",
     "output_type": "stream",
     "text": [
      "Renseignez la note15\n",
      "Est t-il insrict a une activité sportive?oui\n",
      "très bien\n"
     ]
    }
   ],
   "source": [
    "x=float(input('Renseignez la note'))\n",
    "y=input('Est t-il insrict a une activité sportive?')\n",
    "\n",
    "if x>10:\n",
    "    if y==\"oui\":\n",
    "        x=x+1\n",
    "    print(\"très bien\")"
   ]
  },
  {
   "cell_type": "code",
   "execution_count": 1,
   "id": "ce96d854",
   "metadata": {},
   "outputs": [
    {
     "name": "stdout",
     "output_type": "stream",
     "text": [
      "Rentrez un nombre3\n",
      "impair\n"
     ]
    }
   ],
   "source": [
    "n=float(input('Rentrez un nombre'))\n",
    "if n%2==0:\n",
    "    print(\"pair\")\n",
    "else:\n",
    "    print('impair')"
   ]
  },
  {
   "cell_type": "code",
   "execution_count": 2,
   "id": "d700c864",
   "metadata": {},
   "outputs": [
    {
     "name": "stdout",
     "output_type": "stream",
     "text": [
      "3\n"
     ]
    }
   ],
   "source": [
    "print(round(8/3))"
   ]
  },
  {
   "cell_type": "code",
   "execution_count": null,
   "id": "71858943",
   "metadata": {},
   "outputs": [],
   "source": [
    "x=int(input('quel est votre age?'))\n",
    "y=90-x\n",
    "z=y*12\n",
    "s=y*52\n",
    "d=y*365\n",
    "print(f\"You have {d} days, {s} weeks, and {z} months left\")"
   ]
  },
  {
   "cell_type": "code",
   "execution_count": 2,
   "id": "7a7b32a4",
   "metadata": {},
   "outputs": [
    {
     "ename": "KeyboardInterrupt",
     "evalue": "Interrupted by user",
     "output_type": "error",
     "traceback": [
      "\u001b[1;31m---------------------------------------------------------------------------\u001b[0m",
      "\u001b[1;31mKeyboardInterrupt\u001b[0m                         Traceback (most recent call last)",
      "Cell \u001b[1;32mIn[2], line 5\u001b[0m\n\u001b[0;32m      3\u001b[0m b\u001b[38;5;241m=\u001b[39m\u001b[38;5;28;01mTrue\u001b[39;00m\n\u001b[0;32m      4\u001b[0m \u001b[38;5;28;01mwhile\u001b[39;00m b\u001b[38;5;241m==\u001b[39m\u001b[38;5;28;01mTrue\u001b[39;00m:\n\u001b[1;32m----> 5\u001b[0m     y\u001b[38;5;241m=\u001b[39m\u001b[38;5;28mint\u001b[39m(\u001b[38;5;28minput\u001b[39m(\u001b[38;5;124m'\u001b[39m\u001b[38;5;124mEntrez un nombre entre 0 et 5\u001b[39m\u001b[38;5;124m'\u001b[39m))\n\u001b[0;32m      6\u001b[0m     \u001b[38;5;28;01mif\u001b[39;00m y\u001b[38;5;241m>\u001b[39mx:\n\u001b[0;32m      7\u001b[0m         \u001b[38;5;28mprint\u001b[39m(\u001b[38;5;124m'\u001b[39m\u001b[38;5;124mRentrez un nombrez plus petit\u001b[39m\u001b[38;5;124m'\u001b[39m)\n",
      "File \u001b[1;32m~\\anaconda3\\Lib\\site-packages\\ipykernel\\kernelbase.py:1202\u001b[0m, in \u001b[0;36mKernel.raw_input\u001b[1;34m(self, prompt)\u001b[0m\n\u001b[0;32m   1200\u001b[0m     msg \u001b[38;5;241m=\u001b[39m \u001b[38;5;124m\"\u001b[39m\u001b[38;5;124mraw_input was called, but this frontend does not support input requests.\u001b[39m\u001b[38;5;124m\"\u001b[39m\n\u001b[0;32m   1201\u001b[0m     \u001b[38;5;28;01mraise\u001b[39;00m StdinNotImplementedError(msg)\n\u001b[1;32m-> 1202\u001b[0m \u001b[38;5;28;01mreturn\u001b[39;00m \u001b[38;5;28mself\u001b[39m\u001b[38;5;241m.\u001b[39m_input_request(\n\u001b[0;32m   1203\u001b[0m     \u001b[38;5;28mstr\u001b[39m(prompt),\n\u001b[0;32m   1204\u001b[0m     \u001b[38;5;28mself\u001b[39m\u001b[38;5;241m.\u001b[39m_parent_ident[\u001b[38;5;124m\"\u001b[39m\u001b[38;5;124mshell\u001b[39m\u001b[38;5;124m\"\u001b[39m],\n\u001b[0;32m   1205\u001b[0m     \u001b[38;5;28mself\u001b[39m\u001b[38;5;241m.\u001b[39mget_parent(\u001b[38;5;124m\"\u001b[39m\u001b[38;5;124mshell\u001b[39m\u001b[38;5;124m\"\u001b[39m),\n\u001b[0;32m   1206\u001b[0m     password\u001b[38;5;241m=\u001b[39m\u001b[38;5;28;01mFalse\u001b[39;00m,\n\u001b[0;32m   1207\u001b[0m )\n",
      "File \u001b[1;32m~\\anaconda3\\Lib\\site-packages\\ipykernel\\kernelbase.py:1245\u001b[0m, in \u001b[0;36mKernel._input_request\u001b[1;34m(self, prompt, ident, parent, password)\u001b[0m\n\u001b[0;32m   1242\u001b[0m \u001b[38;5;28;01mexcept\u001b[39;00m \u001b[38;5;167;01mKeyboardInterrupt\u001b[39;00m:\n\u001b[0;32m   1243\u001b[0m     \u001b[38;5;66;03m# re-raise KeyboardInterrupt, to truncate traceback\u001b[39;00m\n\u001b[0;32m   1244\u001b[0m     msg \u001b[38;5;241m=\u001b[39m \u001b[38;5;124m\"\u001b[39m\u001b[38;5;124mInterrupted by user\u001b[39m\u001b[38;5;124m\"\u001b[39m\n\u001b[1;32m-> 1245\u001b[0m     \u001b[38;5;28;01mraise\u001b[39;00m \u001b[38;5;167;01mKeyboardInterrupt\u001b[39;00m(msg) \u001b[38;5;28;01mfrom\u001b[39;00m \u001b[38;5;28;01mNone\u001b[39;00m\n\u001b[0;32m   1246\u001b[0m \u001b[38;5;28;01mexcept\u001b[39;00m \u001b[38;5;167;01mException\u001b[39;00m:\n\u001b[0;32m   1247\u001b[0m     \u001b[38;5;28mself\u001b[39m\u001b[38;5;241m.\u001b[39mlog\u001b[38;5;241m.\u001b[39mwarning(\u001b[38;5;124m\"\u001b[39m\u001b[38;5;124mInvalid Message:\u001b[39m\u001b[38;5;124m\"\u001b[39m, exc_info\u001b[38;5;241m=\u001b[39m\u001b[38;5;28;01mTrue\u001b[39;00m)\n",
      "\u001b[1;31mKeyboardInterrupt\u001b[0m: Interrupted by user"
     ]
    }
   ],
   "source": [
    "import numpy as np\n",
    "x=np.random.randint(0,5)\n",
    "b=True\n",
    "while b==True:\n",
    "    y=int(input('Entrez un nombre entre 0 et 5'))\n",
    "    if y>x:\n",
    "        print('Rentrez un nombrez plus petit')\n",
    "    elif y<x:\n",
    "        print('Rentrez un nombre plus grand')\n",
    "    else:\n",
    "        print('Tres bien')\n",
    "        b=False"
   ]
  },
  {
   "cell_type": "code",
   "execution_count": 13,
   "id": "c0d13217",
   "metadata": {},
   "outputs": [
    {
     "name": "stdout",
     "output_type": "stream",
     "text": [
      "0\n",
      "1\n",
      "2\n",
      "3\n",
      "4\n",
      "5\n"
     ]
    }
   ],
   "source": [
    "for i in range(6):\n",
    "    print(i)\n"
   ]
  },
  {
   "cell_type": "code",
   "execution_count": 16,
   "id": "e42b32e0",
   "metadata": {},
   "outputs": [
    {
     "name": "stdout",
     "output_type": "stream",
     "text": [
      "Entrez un nombre entre 0 et 52\n",
      "Rentrez un nombrez plus petit\n",
      "Entrez un nombre entre 0 et 52\n",
      "Rentrez un nombrez plus petit\n",
      "Entrez un nombre entre 0 et 52\n",
      "Rentrez un nombrez plus petit\n"
     ]
    }
   ],
   "source": [
    "import numpy as np\n",
    "x=np.random.randint(0,5)\n",
    "b=True\n",
    "for i in range(0,3,1):\n",
    "    y=int(input('Entrez un nombre entre 0 et 5'))\n",
    "    if y>x:\n",
    "        print('Rentrez un nombrez plus petit')\n",
    "    elif y<x:\n",
    "        print('Rentrez un nombre plus grand')\n",
    "    else:\n",
    "        print('Tres bien')\n",
    "        break"
   ]
  },
  {
   "cell_type": "code",
   "execution_count": 21,
   "id": "c8cb78de",
   "metadata": {},
   "outputs": [
    {
     "name": "stdout",
     "output_type": "stream",
     "text": [
      "0\n",
      "1\n",
      "2\n",
      "3\n",
      "4\n",
      "5\n"
     ]
    }
   ],
   "source": [
    "i=0\n",
    "while i<6:\n",
    "        print(i)\n",
    "        i+=1"
   ]
  },
  {
   "cell_type": "code",
   "execution_count": 4,
   "id": "01ac00d4",
   "metadata": {},
   "outputs": [
    {
     "name": "stdout",
     "output_type": "stream",
     "text": [
      "Entrez un nombre entre 0 et 52\n",
      "Rentrez un nombrez plus petit\n"
     ]
    },
    {
     "ename": "KeyboardInterrupt",
     "evalue": "Interrupted by user",
     "output_type": "error",
     "traceback": [
      "\u001b[1;31m---------------------------------------------------------------------------\u001b[0m",
      "\u001b[1;31mKeyboardInterrupt\u001b[0m                         Traceback (most recent call last)",
      "Cell \u001b[1;32mIn[4], line 6\u001b[0m\n\u001b[0;32m      4\u001b[0m b\u001b[38;5;241m=\u001b[39m\u001b[38;5;28;01mTrue\u001b[39;00m\n\u001b[0;32m      5\u001b[0m \u001b[38;5;28;01mwhile\u001b[39;00m i\u001b[38;5;241m<\u001b[39m\u001b[38;5;241m4\u001b[39m \u001b[38;5;129;01mand\u001b[39;00m b\u001b[38;5;241m==\u001b[39m\u001b[38;5;28;01mTrue\u001b[39;00m:\n\u001b[1;32m----> 6\u001b[0m     y\u001b[38;5;241m=\u001b[39m\u001b[38;5;28mint\u001b[39m(\u001b[38;5;28minput\u001b[39m(\u001b[38;5;124m'\u001b[39m\u001b[38;5;124mEntrez un nombre entre 0 et 5\u001b[39m\u001b[38;5;124m'\u001b[39m))\n\u001b[0;32m      7\u001b[0m     \u001b[38;5;28;01mif\u001b[39;00m y\u001b[38;5;241m>\u001b[39mx:\n\u001b[0;32m      8\u001b[0m         \u001b[38;5;28mprint\u001b[39m(\u001b[38;5;124m'\u001b[39m\u001b[38;5;124mRentrez un nombrez plus petit\u001b[39m\u001b[38;5;124m'\u001b[39m)\n",
      "File \u001b[1;32m~\\anaconda3\\Lib\\site-packages\\ipykernel\\kernelbase.py:1202\u001b[0m, in \u001b[0;36mKernel.raw_input\u001b[1;34m(self, prompt)\u001b[0m\n\u001b[0;32m   1200\u001b[0m     msg \u001b[38;5;241m=\u001b[39m \u001b[38;5;124m\"\u001b[39m\u001b[38;5;124mraw_input was called, but this frontend does not support input requests.\u001b[39m\u001b[38;5;124m\"\u001b[39m\n\u001b[0;32m   1201\u001b[0m     \u001b[38;5;28;01mraise\u001b[39;00m StdinNotImplementedError(msg)\n\u001b[1;32m-> 1202\u001b[0m \u001b[38;5;28;01mreturn\u001b[39;00m \u001b[38;5;28mself\u001b[39m\u001b[38;5;241m.\u001b[39m_input_request(\n\u001b[0;32m   1203\u001b[0m     \u001b[38;5;28mstr\u001b[39m(prompt),\n\u001b[0;32m   1204\u001b[0m     \u001b[38;5;28mself\u001b[39m\u001b[38;5;241m.\u001b[39m_parent_ident[\u001b[38;5;124m\"\u001b[39m\u001b[38;5;124mshell\u001b[39m\u001b[38;5;124m\"\u001b[39m],\n\u001b[0;32m   1205\u001b[0m     \u001b[38;5;28mself\u001b[39m\u001b[38;5;241m.\u001b[39mget_parent(\u001b[38;5;124m\"\u001b[39m\u001b[38;5;124mshell\u001b[39m\u001b[38;5;124m\"\u001b[39m),\n\u001b[0;32m   1206\u001b[0m     password\u001b[38;5;241m=\u001b[39m\u001b[38;5;28;01mFalse\u001b[39;00m,\n\u001b[0;32m   1207\u001b[0m )\n",
      "File \u001b[1;32m~\\anaconda3\\Lib\\site-packages\\ipykernel\\kernelbase.py:1245\u001b[0m, in \u001b[0;36mKernel._input_request\u001b[1;34m(self, prompt, ident, parent, password)\u001b[0m\n\u001b[0;32m   1242\u001b[0m \u001b[38;5;28;01mexcept\u001b[39;00m \u001b[38;5;167;01mKeyboardInterrupt\u001b[39;00m:\n\u001b[0;32m   1243\u001b[0m     \u001b[38;5;66;03m# re-raise KeyboardInterrupt, to truncate traceback\u001b[39;00m\n\u001b[0;32m   1244\u001b[0m     msg \u001b[38;5;241m=\u001b[39m \u001b[38;5;124m\"\u001b[39m\u001b[38;5;124mInterrupted by user\u001b[39m\u001b[38;5;124m\"\u001b[39m\n\u001b[1;32m-> 1245\u001b[0m     \u001b[38;5;28;01mraise\u001b[39;00m \u001b[38;5;167;01mKeyboardInterrupt\u001b[39;00m(msg) \u001b[38;5;28;01mfrom\u001b[39;00m \u001b[38;5;28;01mNone\u001b[39;00m\n\u001b[0;32m   1246\u001b[0m \u001b[38;5;28;01mexcept\u001b[39;00m \u001b[38;5;167;01mException\u001b[39;00m:\n\u001b[0;32m   1247\u001b[0m     \u001b[38;5;28mself\u001b[39m\u001b[38;5;241m.\u001b[39mlog\u001b[38;5;241m.\u001b[39mwarning(\u001b[38;5;124m\"\u001b[39m\u001b[38;5;124mInvalid Message:\u001b[39m\u001b[38;5;124m\"\u001b[39m, exc_info\u001b[38;5;241m=\u001b[39m\u001b[38;5;28;01mTrue\u001b[39;00m)\n",
      "\u001b[1;31mKeyboardInterrupt\u001b[0m: Interrupted by user"
     ]
    }
   ],
   "source": [
    "import numpy as np\n",
    "x=np.random.randint(0,5)\n",
    "i=1\n",
    "b=True\n",
    "while i<4 and b==True:\n",
    "    y=int(input('Entrez un nombre entre 0 et 5'))\n",
    "    if y>x:\n",
    "        print('Rentrez un nombrez plus petit')\n",
    "    elif y<x:\n",
    "        print('Rentrez un nombre plus grand')\n",
    "    else:\n",
    "        print('tres bien')\n",
    "        b=False\n",
    "    i+=1"
   ]
  },
  {
   "cell_type": "code",
   "execution_count": 39,
   "id": "544f24e1",
   "metadata": {},
   "outputs": [
    {
     "name": "stdout",
     "output_type": "stream",
     "text": [
      "3.141592653589793\n"
     ]
    }
   ],
   "source": [
    "import math\n",
    "print(math.pi)"
   ]
  },
  {
   "cell_type": "code",
   "execution_count": 9,
   "id": "7fb1250e",
   "metadata": {},
   "outputs": [
    {
     "data": {
      "text/plain": [
       "7"
      ]
     },
     "execution_count": 9,
     "metadata": {},
     "output_type": "execute_result"
    }
   ],
   "source": [
    "note=[15,14.5,7,19]\n",
    "note[-2]"
   ]
  },
  {
   "cell_type": "code",
   "execution_count": 12,
   "id": "64862898",
   "metadata": {},
   "outputs": [
    {
     "name": "stdout",
     "output_type": "stream",
     "text": [
      "Rentrez le nombre d\"eleves5\n",
      "Entrez la 1ere note 1\n",
      "Entrez la 2eme note 2\n",
      "Entrez la 3eme note 3\n",
      "Entrez la 4eme note 4\n",
      "Entrez la 5eme note 5\n",
      "la moyenne est 3.0 le max est 5.0 le min est 1.0\n",
      "Rentrez le numéro de l\"elève3\n",
      "la note est 5.0 appreciation nul\n"
     ]
    }
   ],
   "source": [
    "x=int(input('Rentrez le nombre d\"eleves'))\n",
    "l=[]\n",
    "\n",
    "\n",
    "for i in range (x):\n",
    "    if i==0:\n",
    "        y=float(input(f'Entrez la {i+1}ère note '))\n",
    "    else:\n",
    "        y=float(input(f'Entrez la {i+1}ème note '))\n",
    "    \n",
    "    l.append(y)\n",
    "print('la moyenne est',sum(l)/x,'le max est', max(l),'le min est',min(l))\n",
    "\n",
    "z=int(input('Rentrez le numéro de l\"elève'))\n",
    "n=l[z-1]\n",
    "if n>12:\n",
    "    print(f'la note est {y} appreciation bien')\n",
    "elif n==10:\n",
    "    print(f'la note est {y} appreciation passable')\n",
    "elif n<10:\n",
    "    print(f'la note est {y} appreciation nul')\n",
    "else:\n",
    "    print(f'la note est {y} appreciation convenable')\n"
   ]
  },
  {
   "cell_type": "code",
   "execution_count": 5,
   "id": "f17875cd",
   "metadata": {},
   "outputs": [
    {
     "name": "stdout",
     "output_type": "stream",
     "text": [
      "Rentrez le premier nombre15\n",
      "Rentrez le premier operateur+\n",
      "Rentrez le deuxieme nombre5\n",
      "15.0+5.0=20.0\n"
     ]
    }
   ],
   "source": [
    "a=float(input('Rentrez le premier nombre'))\n",
    "b=input('Rentrez le premier operateur')\n",
    "if b not in ('+','-','/','*'):\n",
    "    print('veuillez saisir un operateur')\n",
    "else:\n",
    "    c=float(input('Rentrez le deuxieme nombre'))\n",
    "    while b in ('+','-','/','*'):\n",
    "        if b=='-':\n",
    "            print(f'{a}-{c}={a-c}')\n",
    "            break\n",
    "        elif b =='/':\n",
    "            print(f'{a}/{c}={a/c}')\n",
    "            break\n",
    "        elif b =='*':\n",
    "            print(f'{a}*{c}={a*c}')\n",
    "            break\n",
    "        else:\n",
    "            print(f'{a}+{c}={a+c}')\n",
    "            break"
   ]
  },
  {
   "cell_type": "code",
   "execution_count": 10,
   "id": "fb8640ed",
   "metadata": {},
   "outputs": [
    {
     "name": "stdout",
     "output_type": "stream",
     "text": [
      "Rentrez le premier nombre4\n",
      "entrez le premier operateur4\n",
      "Rentrez le premier operateur4\n",
      "Rentrez le premier operateur4\n",
      "Rentrez le premier operateur4\n",
      "Rentrez le premier operateur*\n",
      "Rentrez le deuxieme nombre2\n",
      "4.0*2.0=8.0\n"
     ]
    }
   ],
   "source": [
    "a=float(input('Rentrez le premier nombre'))\n",
    "b=input('entrez le premier operateur')\n",
    "while b not in ('+','-','/','*'):\n",
    "    b=input('Rentrez le premier operateur')\n",
    "c=float(input('Rentrez le deuxieme nombre'))\n",
    "if b=='-':\n",
    "    print(f'{a}-{c}={a-c}')\n",
    "elif b =='/':\n",
    "    print(f'{a}/{c}={a/c}')\n",
    "elif b =='*':\n",
    "    print(f'{a}*{c}={a*c}')\n",
    "else:\n",
    "    print(f'{a}+{c}={a+c}')"
   ]
  },
  {
   "cell_type": "code",
   "execution_count": 11,
   "id": "29ea1e65",
   "metadata": {},
   "outputs": [
    {
     "name": "stdout",
     "output_type": "stream",
     "text": [
      "Rentrez le premier nombre15\n",
      "Rentrez le premier operateur2\n",
      "Rentrez le premier operateur2\n",
      "Rentrez le premier operateur+\n",
      "Rentrez le deuxieme nombre5\n",
      "15.0+5.0=20.0\n"
     ]
    }
   ],
   "source": [
    "a=float(input('Rentrez le premier nombre'))\n",
    "v=True\n",
    "while v==True:\n",
    "    b=input('Rentrez le premier operateur')\n",
    "    if b in ('+','-','/','*'):\n",
    "        v=False\n",
    "        \n",
    "c=float(input('Rentrez le deuxieme nombre'))\n",
    "if b=='-':\n",
    "    print(f'{a}-{c}={a-c}')\n",
    "elif b =='/':\n",
    "    print(f'{a}/{c}={a/c}')\n",
    "elif b =='*':\n",
    "    print(f'{a}*{c}={a*c}')\n",
    "else:\n",
    "    print(f'{a}+{c}={a+c}')"
   ]
  },
  {
   "cell_type": "code",
   "execution_count": 36,
   "id": "05d64c2a",
   "metadata": {},
   "outputs": [
    {
     "name": "stdout",
     "output_type": "stream",
     "text": [
      "Welcome to Python Pizza Deliveries\n",
      "which size you want?s\n",
      "Do you want pepperoni?y\n",
      "Do you want extra cheese?y\n",
      "Your final bill is: 18$\n"
     ]
    }
   ],
   "source": [
    "print('Welcome to Python Pizza Deliveries')\n",
    "m=20\n",
    "o=15\n",
    "l=25\n",
    "v=True\n",
    "while v==True:\n",
    "    s=input('which size you want?')\n",
    "    if s in ('m','s','l'):\n",
    "        v=False\n",
    "x=True\n",
    "while x==True:\n",
    "    p=input('Do you want pepperoni?')\n",
    "    if p in ('y','n'):\n",
    "        x=False\n",
    "w=True\n",
    "while w==True:\n",
    "    c=input('Do you want extra cheese?')\n",
    "    if c in ('y','n'):\n",
    "        w=False\n",
    "if s=='m':\n",
    "    if c=='y':\n",
    "        if p=='y':\n",
    "            print(f'Your final bill is: {m+1+3}$')\n",
    "        else:\n",
    "            print(f'Your final bill is: {m+1}$')\n",
    "    elif p=='y':\n",
    "        print(f'Your final bill is: {m+3}$')\n",
    "    else:\n",
    "        print(f'Your final bill is: {m}$')\n",
    "elif s=='s':\n",
    "    if c=='y':\n",
    "        if p=='y':\n",
    "            print(f'Your final bill is: {o+1+2}$')\n",
    "        else:\n",
    "            print(f'Your final bill is: {o+1}$')\n",
    "    elif p=='y':\n",
    "        print(f'Your final bill is: {o+2}$')\n",
    "    else:\n",
    "        print(f'Your final bill is: {o}$')\n",
    "else:\n",
    "    if c=='y':\n",
    "        if p=='y':\n",
    "            print(f'Your final bill is: {l+1+3}$')\n",
    "        else:\n",
    "            print(f'Your final bill is: {l+1}$')\n",
    "    elif p=='y':\n",
    "        print(f'Your final bill is: {l+3}$')\n",
    "    else:\n",
    "        print(f'Your final bill is: {l}$')\n",
    "        \n",
    "\n"
   ]
  },
  {
   "cell_type": "code",
   "execution_count": 2,
   "id": "399cf91f",
   "metadata": {},
   "outputs": [
    {
     "ename": "IndentationError",
     "evalue": "unindent does not match any outer indentation level (<tokenize>, line 3)",
     "output_type": "error",
     "traceback": [
      "\u001b[1;36m  File \u001b[1;32m<tokenize>:3\u001b[1;36m\u001b[0m\n\u001b[1;33m    elif s=='s' and p=='y':\u001b[0m\n\u001b[1;37m    ^\u001b[0m\n\u001b[1;31mIndentationError\u001b[0m\u001b[1;31m:\u001b[0m unindent does not match any outer indentation level\n"
     ]
    }
   ],
   "source": [
    "   if s=='m' and p=='y':\n",
    "            print(f'Your final bill is: $'{20+1})\n",
    "        elif s=='s' and p=='y':\n",
    "            print(f'Your final bill is: $'{15+1})\n",
    "        elif s=='l' and p=='y':\n",
    "            print(f'Your final bill is: $'{25+1})\n",
    "        elif s=='m' and p=='n':\n",
    "            print(f'Your final bill is: $'{20})\n",
    "        elif s=='s' and p=='n':\n",
    "            print(f'Your final bill is: $'{15})\n",
    "        else s=='m' and p=='n':\n",
    "            print(f'Your final bill is: $'{25})\n",
    "            "
   ]
  },
  {
   "cell_type": "code",
   "execution_count": 8,
   "id": "a29e4ec3",
   "metadata": {},
   "outputs": [
    {
     "name": "stdout",
     "output_type": "stream",
     "text": [
      "John\n",
      "milk\n",
      "['milk', 'bread', 'eggs', 'bananas', 'chocolate']\n",
      "['bread', 'eggs', 'bananas', 'chocolate']\n",
      "['eggs', 'bananas', 'chocolate']\n",
      "{'2', '1', '5', '3', '4'}\n",
      "{'2', '1', '6', '5', '3', '4'}\n",
      "6\n",
      "{'2', '1', '6', '5', '3', '4'}\n",
      "{'name': 'john', 'age': 25, 'position': 'developer', 'salary': 3000}\n",
      "john\n",
      "{'age': 25, 'position': 'developer', 'salary': 3000}\n",
      "{'age': 25, 'position': 'developer', 'salary': 3000, 'qzd': 1}\n"
     ]
    }
   ],
   "source": [
    "mytuple=('John','25','male')\n",
    "print(mytuple[0])\n",
    "\n",
    "mylist = [\"milk\", \"bread\", \"eggs\", \"bananas\"]\n",
    "print(mylist[0])\n",
    "mylist.append('chocolate')\n",
    "print(mylist)\n",
    "mylist.remove('milk')\n",
    "print(mylist)\n",
    "del mylist[0]\n",
    "print(mylist)\n",
    "\n",
    "myset={'1','2','3','4','5'}\n",
    "print(myset)\n",
    "myset.add('6')\n",
    "print(myset)\n",
    "print(len(myset))\n",
    "myset.add('5')\n",
    "print(myset)\n",
    "\n",
    "mydictionary = {\"name\": 'john', \"age\": 25, \"position\": 'developer', \"salary\": 3000}\n",
    "print(mydictionary)\n",
    "print(mydictionary[\"name\"])\n",
    "mydictionary.pop('name')\n",
    "print(mydictionary)\n",
    "mydictionary['qzd']=1\n",
    "print(mydictionary)"
   ]
  },
  {
   "cell_type": "code",
   "execution_count": 35,
   "id": "d92ed488",
   "metadata": {},
   "outputs": [
    {
     "name": "stdout",
     "output_type": "stream",
     "text": [
      "Entrez la longueur de la liste3\n",
      "Entrez la 1ère valeur de la liste 1\n",
      "Entrez la 2ème valeur de la liste 2\n",
      "Entrez la 3ème valeur de la liste 3\n",
      "la 1 ere valeur est 1.0\n",
      "la 2 eme valeur est 2.0\n",
      "la 3 eme valeur est 3.0\n"
     ]
    }
   ],
   "source": [
    "x=int(input('Entrez la longueur de la liste'))\n",
    "l=[]\n",
    "\n",
    "\n",
    "for i in range (x):\n",
    "    if i==0:\n",
    "        y=float(input(f'Entrez la {i+1}ère valeur de la liste '))\n",
    "    else:\n",
    "        y=float(input(f'Entrez la {i+1}ème valeur de la liste '))\n",
    "    \n",
    "    l.append(y)\n",
    "\n",
    "for i in range (x):\n",
    "    if i==0:\n",
    "        print(f'la {i+1} ere valeur est',l[i])\n",
    "    else:\n",
    "        print(f'la {i+1} eme valeur est',l[i])\n"
   ]
  },
  {
   "cell_type": "code",
   "execution_count": 20,
   "id": "9b6c8447",
   "metadata": {},
   "outputs": [],
   "source": [
    "def remplir_tuple():\n",
    "    \n",
    "     x=int(input('Entrez la longueur de la liste'))\n",
    "     t=()\n",
    "\n",
    "\n",
    "     for i in range (x):\n",
    "        if i==0:\n",
    "            y=float(input(f'Entrez la {i+1}ère valeur du tuple '))\n",
    "            t=t+(y,)\n",
    "        else:\n",
    "            y=float(input(f'Entrez la {i+1}ème valeur du tuple '))\n",
    "            t=t+(y,)\n",
    "     print(t)"
   ]
  },
  {
   "cell_type": "code",
   "execution_count": 21,
   "id": "90ed910a",
   "metadata": {},
   "outputs": [
    {
     "name": "stdout",
     "output_type": "stream",
     "text": [
      "(5, 7, 7)\n"
     ]
    }
   ],
   "source": [
    "remplir_tuple()"
   ]
  },
  {
   "cell_type": "code",
   "execution_count": 28,
   "id": "487e16d4",
   "metadata": {},
   "outputs": [
    {
     "name": "stdout",
     "output_type": "stream",
     "text": [
      "Entrez la longueur de la liste2\n",
      "Entrez le 1er key 1\n",
      "Entrez la valeur de la 1ère key 1\n",
      "Entrez le 2eme key 2\n",
      "Entrez la valeur de la 2ème key 2\n",
      "le 1èr key est:1, et la 1ère valeur est 1\n",
      "le 2ème key est:2, et la 2ème valeur est 2\n"
     ]
    }
   ],
   "source": [
    "x=int(input('Entrez la longueur de la liste'))\n",
    "d={}\n",
    "\n",
    "for i in range (x):\n",
    "    if i==0:\n",
    "        z=input(f'Entrez le {i+1}er key ')\n",
    "        y=input(f'Entrez la valeur de la {i+1}ère key ')\n",
    "        d[z]=y\n",
    "    else:\n",
    "        z=input(f'Entrez le {i+1}eme key ')\n",
    "        y=input(f'Entrez la valeur de la {i+1}ème key ')\n",
    "        d[z]=y\n",
    "t=list(d.keys())\n",
    "r=list(d.values())\n",
    "for i in range(len(d)):\n",
    "    if i==0:\n",
    "        print(f\"le {i+1}èr key est:{t[i]}, et la {i+1}ère valeur est {r[i]}\")\n",
    "    else:\n",
    "        print(f\"le {i+1}ème key est:{t[i]}, et la {i+1}ème valeur est {r[i]}\")\n",
    "\n"
   ]
  },
  {
   "cell_type": "code",
   "execution_count": 32,
   "id": "97cbb139",
   "metadata": {},
   "outputs": [
    {
     "name": "stdout",
     "output_type": "stream",
     "text": [
      "Do you want to add, remove or view?remove\n"
     ]
    },
    {
     "ename": "KeyboardInterrupt",
     "evalue": "",
     "output_type": "error",
     "traceback": [
      "\u001b[1;31m---------------------------------------------------------------------------\u001b[0m",
      "\u001b[1;31mKeyboardInterrupt\u001b[0m                         Traceback (most recent call last)",
      "Cell \u001b[1;32mIn[32], line 5\u001b[0m\n\u001b[0;32m      2\u001b[0m l\u001b[38;5;241m=\u001b[39m[]\n\u001b[0;32m      4\u001b[0m x\u001b[38;5;241m=\u001b[39m\u001b[38;5;28;01mTrue\u001b[39;00m\n\u001b[1;32m----> 5\u001b[0m \u001b[38;5;28;01mwhile\u001b[39;00m x\u001b[38;5;241m==\u001b[39m\u001b[38;5;28;01mTrue\u001b[39;00m:\n\u001b[0;32m      6\u001b[0m     \u001b[38;5;28;01mif\u001b[39;00m a \u001b[38;5;241m==\u001b[39m\u001b[38;5;124m'\u001b[39m\u001b[38;5;124madd\u001b[39m\u001b[38;5;124m'\u001b[39m:\n\u001b[0;32m      7\u001b[0m         b\u001b[38;5;241m=\u001b[39m\u001b[38;5;28mint\u001b[39m(\u001b[38;5;28minput\u001b[39m(\u001b[38;5;124m'\u001b[39m\u001b[38;5;124mEntrez la longueur de la liste\u001b[39m\u001b[38;5;124m'\u001b[39m))\n",
      "\u001b[1;31mKeyboardInterrupt\u001b[0m: "
     ]
    }
   ],
   "source": [
    "a=input('Do you want to add, remove or view?')\n",
    "l=[]\n",
    "\n",
    "x=True\n",
    "while x==True:\n",
    "    if a =='add':\n",
    "        b=int(input('Entrez la longueur de la liste'))\n",
    "        for i in range (b):\n",
    "            \n",
    "            if i==0:\n",
    "                \n",
    "                y=float(input(f'Entrez la {i+1}ère valeur de la liste '))\n",
    "            else:\n",
    "                y=float(input(f'Entrez la {i+1}ème valeur de la liste '))\n",
    "                l.append(y)\n",
    "        x=False\n",
    "        c=input('Do you want to remove or view?')\n",
    "        if c=='remove':\n",
    "            print(l)\n",
    "            d=float(input('Choisissez le numero de la série'))\n",
    "            l.remove(d)\n",
    "            print(l)\n",
    "        elif c=='view':\n",
    "            print(l)\n",
    "        \n",
    "        \n",
    "       \n",
    "  "
   ]
  },
  {
   "cell_type": "code",
   "execution_count": 8,
   "id": "42cd86c9",
   "metadata": {},
   "outputs": [
    {
     "name": "stdout",
     "output_type": "stream",
     "text": [
      "Menu:\n",
      "1.ajouter article\n",
      "2.supprimer article\n",
      "3.afficher les éléments\n",
      "4.Exit\n",
      "choisir la commande de 1 à 4:1\n",
      "nombre élément à ajouter:3\n",
      "entrer le 1 er élément1\n",
      "['1']\n",
      "entrer le 2 ème élément2\n",
      "['1', '2']\n",
      "entrer le 3 ème élément3\n",
      "['1', '2', '3']\n",
      "Menu:\n",
      "1.ajouter article\n",
      "2.supprimer article\n",
      "3.afficher les éléments\n",
      "4.Exit\n",
      "choisir la commande de 1 à 4:1\n",
      "nombre élément à ajouter:3\n",
      "entrer le 1 er élément4\n",
      "['1', '2', '3', '4']\n",
      "entrer le 2 ème élément5\n",
      "['1', '2', '3', '4', '5']\n",
      "entrer le 3 ème élément6\n",
      "['1', '2', '3', '4', '5', '6']\n",
      "Menu:\n",
      "1.ajouter article\n",
      "2.supprimer article\n",
      "3.afficher les éléments\n",
      "4.Exit\n",
      "choisir la commande de 1 à 4:3\n",
      "le 1 er élément est: 1\n",
      "le 2ème valeur est: 2\n",
      "le 3ème valeur est: 3\n",
      "le 4ème valeur est: 4\n",
      "le 5ème valeur est: 5\n",
      "le 6ème valeur est: 6\n",
      "Menu:\n",
      "1.ajouter article\n",
      "2.supprimer article\n",
      "3.afficher les éléments\n",
      "4.Exit\n",
      "choisir la commande de 1 à 4:2\n",
      "élément à supprimer2\n",
      "['1', '3', '4', '5', '6']\n",
      "Menu:\n",
      "1.ajouter article\n",
      "2.supprimer article\n",
      "3.afficher les éléments\n",
      "4.Exit\n",
      "choisir la commande de 1 à 4:3\n",
      "Menu:\n",
      "1.ajouter article\n",
      "2.supprimer article\n",
      "3.afficher les éléments\n",
      "4.Exit\n"
     ]
    },
    {
     "ename": "KeyboardInterrupt",
     "evalue": "Interrupted by user",
     "output_type": "error",
     "traceback": [
      "\u001b[1;31m---------------------------------------------------------------------------\u001b[0m",
      "\u001b[1;31mKeyboardInterrupt\u001b[0m                         Traceback (most recent call last)",
      "Cell \u001b[1;32mIn[8], line 10\u001b[0m\n\u001b[0;32m      8\u001b[0m \u001b[38;5;28mprint\u001b[39m(\u001b[38;5;124m\"\u001b[39m\u001b[38;5;124m3.afficher les éléments\u001b[39m\u001b[38;5;124m\"\u001b[39m)\n\u001b[0;32m      9\u001b[0m \u001b[38;5;28mprint\u001b[39m(\u001b[38;5;124m\"\u001b[39m\u001b[38;5;124m4.Exit\u001b[39m\u001b[38;5;124m\"\u001b[39m)\n\u001b[1;32m---> 10\u001b[0m c\u001b[38;5;241m=\u001b[39m\u001b[38;5;28mint\u001b[39m(\u001b[38;5;28minput\u001b[39m(\u001b[38;5;124m\"\u001b[39m\u001b[38;5;124mchoisir la commande de 1 à 4:\u001b[39m\u001b[38;5;124m\"\u001b[39m))\n\u001b[0;32m     11\u001b[0m \u001b[38;5;28;01mif\u001b[39;00m c\u001b[38;5;241m==\u001b[39m\u001b[38;5;241m1\u001b[39m:\n\u001b[0;32m     12\u001b[0m     n\u001b[38;5;241m=\u001b[39m\u001b[38;5;28mint\u001b[39m(\u001b[38;5;28minput\u001b[39m(\u001b[38;5;124m\"\u001b[39m\u001b[38;5;124mnombre élément à ajouter:\u001b[39m\u001b[38;5;124m\"\u001b[39m))\n",
      "File \u001b[1;32m~\\anaconda3\\Lib\\site-packages\\ipykernel\\kernelbase.py:1202\u001b[0m, in \u001b[0;36mKernel.raw_input\u001b[1;34m(self, prompt)\u001b[0m\n\u001b[0;32m   1200\u001b[0m     msg \u001b[38;5;241m=\u001b[39m \u001b[38;5;124m\"\u001b[39m\u001b[38;5;124mraw_input was called, but this frontend does not support input requests.\u001b[39m\u001b[38;5;124m\"\u001b[39m\n\u001b[0;32m   1201\u001b[0m     \u001b[38;5;28;01mraise\u001b[39;00m StdinNotImplementedError(msg)\n\u001b[1;32m-> 1202\u001b[0m \u001b[38;5;28;01mreturn\u001b[39;00m \u001b[38;5;28mself\u001b[39m\u001b[38;5;241m.\u001b[39m_input_request(\n\u001b[0;32m   1203\u001b[0m     \u001b[38;5;28mstr\u001b[39m(prompt),\n\u001b[0;32m   1204\u001b[0m     \u001b[38;5;28mself\u001b[39m\u001b[38;5;241m.\u001b[39m_parent_ident[\u001b[38;5;124m\"\u001b[39m\u001b[38;5;124mshell\u001b[39m\u001b[38;5;124m\"\u001b[39m],\n\u001b[0;32m   1205\u001b[0m     \u001b[38;5;28mself\u001b[39m\u001b[38;5;241m.\u001b[39mget_parent(\u001b[38;5;124m\"\u001b[39m\u001b[38;5;124mshell\u001b[39m\u001b[38;5;124m\"\u001b[39m),\n\u001b[0;32m   1206\u001b[0m     password\u001b[38;5;241m=\u001b[39m\u001b[38;5;28;01mFalse\u001b[39;00m,\n\u001b[0;32m   1207\u001b[0m )\n",
      "File \u001b[1;32m~\\anaconda3\\Lib\\site-packages\\ipykernel\\kernelbase.py:1245\u001b[0m, in \u001b[0;36mKernel._input_request\u001b[1;34m(self, prompt, ident, parent, password)\u001b[0m\n\u001b[0;32m   1242\u001b[0m \u001b[38;5;28;01mexcept\u001b[39;00m \u001b[38;5;167;01mKeyboardInterrupt\u001b[39;00m:\n\u001b[0;32m   1243\u001b[0m     \u001b[38;5;66;03m# re-raise KeyboardInterrupt, to truncate traceback\u001b[39;00m\n\u001b[0;32m   1244\u001b[0m     msg \u001b[38;5;241m=\u001b[39m \u001b[38;5;124m\"\u001b[39m\u001b[38;5;124mInterrupted by user\u001b[39m\u001b[38;5;124m\"\u001b[39m\n\u001b[1;32m-> 1245\u001b[0m     \u001b[38;5;28;01mraise\u001b[39;00m \u001b[38;5;167;01mKeyboardInterrupt\u001b[39;00m(msg) \u001b[38;5;28;01mfrom\u001b[39;00m \u001b[38;5;28;01mNone\u001b[39;00m\n\u001b[0;32m   1246\u001b[0m \u001b[38;5;28;01mexcept\u001b[39;00m \u001b[38;5;167;01mException\u001b[39;00m:\n\u001b[0;32m   1247\u001b[0m     \u001b[38;5;28mself\u001b[39m\u001b[38;5;241m.\u001b[39mlog\u001b[38;5;241m.\u001b[39mwarning(\u001b[38;5;124m\"\u001b[39m\u001b[38;5;124mInvalid Message:\u001b[39m\u001b[38;5;124m\"\u001b[39m, exc_info\u001b[38;5;241m=\u001b[39m\u001b[38;5;28;01mTrue\u001b[39;00m)\n",
      "\u001b[1;31mKeyboardInterrupt\u001b[0m: Interrupted by user"
     ]
    }
   ],
   "source": [
    "shopping_list=[]\n",
    "s=0\n",
    "a=True\n",
    "while a==True:\n",
    "    print(\"Menu:\")\n",
    "    print(\"1.ajouter article\")\n",
    "    print(\"2.supprimer article\")\n",
    "    print(\"3.afficher les éléments\")\n",
    "    print(\"4.Exit\")\n",
    "    c=int(input(\"choisir la commande de 1 à 4:\"))\n",
    "    if c==1:\n",
    "        n=int(input(\"nombre élément à ajouter:\"))\n",
    "        for i in range (n):\n",
    "                if i==0: \n",
    "                      E=input(f\"entrer le {i+1} er élément\")\n",
    "                else:\n",
    "                      E=input(f\"entrer le {i+1} ème élément\")\n",
    "                shopping_list.append(E)\n",
    "                print(shopping_list)\n",
    "        s=s+n       \n",
    "    elif c==2:\n",
    "        j=input(\"élément à supprimer\")\n",
    "        shopping_list.remove(j)\n",
    "        s=-1\n",
    "        print(shopping_list)\n",
    "    elif c==3:\n",
    "        for i in range (s):\n",
    "            if i==0:\n",
    "                print(f\"le {i+1} er élément est:\",shopping_list[i])\n",
    "            else:\n",
    "                print(f\"le {i+1}ème valeur est:\",shopping_list[i])\n",
    "    else:\n",
    "        break"
   ]
  },
  {
   "cell_type": "code",
   "execution_count": 13,
   "id": "76a888a1",
   "metadata": {},
   "outputs": [
    {
     "name": "stdout",
     "output_type": "stream",
     "text": [
      "12\n"
     ]
    }
   ],
   "source": [
    "def length(liste):\n",
    "    s =0 \n",
    "    for i in liste:\n",
    "          s+=1 #s = s+1\n",
    "    return(s)\n",
    "a = [5,6,7,8,9,10,11,12,'j','l','pk','jml']\n",
    "print(length(a)) #4"
   ]
  },
  {
   "cell_type": "code",
   "execution_count": 14,
   "id": "20bd51f9",
   "metadata": {},
   "outputs": [
    {
     "name": "stdout",
     "output_type": "stream",
     "text": [
      "I am from Maroc\n",
      "I am from Algeria\n",
      "I am from Tunisia\n"
     ]
    }
   ],
   "source": [
    "def my_function(country=\"Tunisia\"):\n",
    "    print(\"I am from \"+country)\n",
    "my_function(\"Maroc\")\n",
    "my_function(\"Algeria\")\n",
    "my_function()"
   ]
  },
  {
   "cell_type": "code",
   "execution_count": 29,
   "id": "31499112",
   "metadata": {},
   "outputs": [],
   "source": [
    "def minimum(a,b):\n",
    "    if a<b:\n",
    "        return(a)\n",
    "    else:\n",
    "        return(b)"
   ]
  },
  {
   "cell_type": "code",
   "execution_count": 31,
   "id": "fae0471b",
   "metadata": {},
   "outputs": [
    {
     "data": {
      "text/plain": [
       "8"
      ]
     },
     "execution_count": 31,
     "metadata": {},
     "output_type": "execute_result"
    }
   ],
   "source": [
    "minimum(8,89)"
   ]
  },
  {
   "cell_type": "code",
   "execution_count": 36,
   "id": "c85eaa94",
   "metadata": {},
   "outputs": [],
   "source": [
    "def test(a,b):\n",
    "    x = int(a)\n",
    "    y = int(b)\n",
    "    return (x-y) # write here the returned value of the function"
   ]
  },
  {
   "cell_type": "code",
   "execution_count": 37,
   "id": "ae3f9802",
   "metadata": {},
   "outputs": [
    {
     "data": {
      "text/plain": [
       "3"
      ]
     },
     "execution_count": 37,
     "metadata": {},
     "output_type": "execute_result"
    }
   ],
   "source": [
    "test(10,7)"
   ]
  },
  {
   "cell_type": "code",
   "execution_count": 5,
   "id": "f003eec8",
   "metadata": {},
   "outputs": [
    {
     "name": "stdout",
     "output_type": "stream",
     "text": [
      "inserer un nombre:4\n",
      "12.0\n"
     ]
    }
   ],
   "source": [
    "triple=lambda x:x*3\n",
    "x=float(input('inserer un nombre:'))\n",
    "r=triple(x)\n",
    "print(r)"
   ]
  },
  {
   "cell_type": "code",
   "execution_count": 7,
   "id": "d43fe182",
   "metadata": {},
   "outputs": [
    {
     "ename": "NameError",
     "evalue": "name 'numbers' is not defined",
     "output_type": "error",
     "traceback": [
      "\u001b[1;31m---------------------------------------------------------------------------\u001b[0m",
      "\u001b[1;31mNameError\u001b[0m                                 Traceback (most recent call last)",
      "Cell \u001b[1;32mIn[7], line 1\u001b[0m\n\u001b[1;32m----> 1\u001b[0m squared_numbers \u001b[38;5;241m=\u001b[39m \u001b[38;5;28mmap\u001b[39m(\u001b[38;5;28;01mlambda\u001b[39;00m x: x\u001b[38;5;241m*\u001b[39mx, numbers)\n\u001b[0;32m      2\u001b[0m \u001b[38;5;28mprint\u001b[39m(\u001b[38;5;28mlist\u001b[39m(squared_numbers))\n",
      "\u001b[1;31mNameError\u001b[0m: name 'numbers' is not defined"
     ]
    }
   ],
   "source": [
    "squared_numbers = map(lambda x: x*x, numbers)\n",
    "print(list(squared_numbers))"
   ]
  },
  {
   "cell_type": "code",
   "execution_count": 14,
   "id": "1dfc03fd",
   "metadata": {},
   "outputs": [
    {
     "name": "stdout",
     "output_type": "stream",
     "text": [
      "[33.8, 67.6, 101.39999999999999, 135.2, 169.0]\n"
     ]
    }
   ],
   "source": [
    "numbers=[1, 2, 3, 4, 5] \n",
    "F=map(lambda x:x*((9/5)+ 32),numbers)\n",
    "print(list(F))"
   ]
  },
  {
   "cell_type": "code",
   "execution_count": null,
   "id": "35dcb816",
   "metadata": {},
   "outputs": [],
   "source": [
    "def add(a,b):\n",
    "    return (a+b)\n",
    "def multi(a,b):\n",
    "    return (a*b)\n",
    "def sub(a,b):\n",
    "    return (a-b)\n",
    "def div(a,b):\n",
    "    return (a/b)\n",
    "operations = {'+':add,'-':sub,'/':div,'*':multi}\n",
    "def calculator():\n",
    "    x=float(input('Entrez le premier nombre'))\n",
    "    l=True\n",
    "    while l==True:\n",
    "        print(\"Les opérations disponibles sont:\")\n",
    "        for key in operations.keys():\n",
    "            print(key)\n",
    "        y=input(\"Entrez un opérateur\")\n",
    "        z=float(input(\"Entrez le deuxième nombre\"))\n",
    "        f=operations[y]\n",
    "        r=f(x,z)\n",
    "        print(f{x,y,'=',z})\n",
    "        g=input('Voulez vous continuer?')\n",
    "        if g=='yes':\n",
    "            x=r\n",
    "        else:\n",
    "            l=False\n",
    "            calculator()\n",
    "\n",
    "            \n",
    "            \n",
    "            \n",
    "            \n",
    "    \n"
   ]
  },
  {
   "cell_type": "code",
   "execution_count": null,
   "id": "7cffb5f1",
   "metadata": {},
   "outputs": [
    {
     "name": "stdout",
     "output_type": "stream",
     "text": [
      "Entrez le premier nombre2\n",
      "Les opérations disponibles sont:\n",
      "+\n",
      "-\n",
      "/\n",
      "*\n",
      "Entrez un opérateur+\n",
      "Entrez le deuxième nombre2\n",
      "4.0\n",
      "Voulez vous continuer?no\n",
      "good bye\n",
      "Les opérations disponibles sont:\n",
      "+\n",
      "-\n",
      "/\n",
      "*\n"
     ]
    }
   ],
   "source": [
    "calculator()"
   ]
  },
  {
   "cell_type": "code",
   "execution_count": 4,
   "id": "1ebb47d0",
   "metadata": {},
   "outputs": [],
   "source": [
    "def __init__(self, name):\n",
    "    self.name = name\n",
    "def run(self):\n",
    "    print(f\"{self.name} is running in the game.\")"
   ]
  },
  {
   "cell_type": "code",
   "execution_count": 25,
   "id": "4f9f406f",
   "metadata": {},
   "outputs": [],
   "source": [
    "class player:\n",
    "    def __init__(self,name):\n",
    "        self.name=name\n",
    "        self.hp=100\n",
    "    def take_damage(self,d):\n",
    "        self.hp=self.hp-d\n",
    "        if d>=20:\n",
    "            print(\"le joueur\",self.name,\"a pris\",d,\"damage\")\n",
    "            print('il lui reste',self.hp,'de vie')\n",
    "    "
   ]
  },
  {
   "cell_type": "code",
   "execution_count": 27,
   "id": "28b656a0",
   "metadata": {},
   "outputs": [
    {
     "name": "stdout",
     "output_type": "stream",
     "text": [
      "le joueur Yassine a pris 40 damage\n",
      "il lui reste 60 de vie\n"
     ]
    }
   ],
   "source": [
    "jr=player(\"Yassine\")\n",
    "jr.take_damage(40)"
   ]
  },
  {
   "cell_type": "code",
   "execution_count": 30,
   "id": "f5a9a796",
   "metadata": {},
   "outputs": [
    {
     "ename": "IndentationError",
     "evalue": "expected an indented block after function definition on line 5 (3373262640.py, line 8)",
     "output_type": "error",
     "traceback": [
      "\u001b[1;36m  Cell \u001b[1;32mIn[30], line 8\u001b[1;36m\u001b[0m\n\u001b[1;33m    super_player = SuperPlayer(\"Jack\", 30)\u001b[0m\n\u001b[1;37m                                          ^\u001b[0m\n\u001b[1;31mIndentationError\u001b[0m\u001b[1;31m:\u001b[0m expected an indented block after function definition on line 5\n"
     ]
    }
   ],
   "source": [
    "class SuperPlayer(Player):\n",
    "    def __init__(self, name, age):\n",
    "        super().__init__(name, age)\n",
    "        \n",
    "    def fly(self):\n",
    "        # code for flying in the game\n",
    "        \n",
    "\n",
    "super_player = SuperPlayer(\"Jack\", 30)\n",
    "super_player.speak()\n",
    "super_player.fly()"
   ]
  },
  {
   "cell_type": "code",
   "execution_count": 36,
   "id": "27e97a6a",
   "metadata": {},
   "outputs": [],
   "source": [
    "import numpy as np\n",
    "array = np.array([1, 2, 3])\n",
    "array_2d = np.array([[1, 2, 3], [4, 5, 6]])\n",
    "array_3d = np.array([[1, 2, 3], [4, 5, 6],[7, 8, 9]])"
   ]
  },
  {
   "cell_type": "code",
   "execution_count": 37,
   "id": "65ace2c4",
   "metadata": {},
   "outputs": [
    {
     "name": "stdout",
     "output_type": "stream",
     "text": [
      "[[1 2 3]\n",
      " [4 5 6]\n",
      " [7 8 9]]\n"
     ]
    }
   ],
   "source": [
    "print(array_3d)"
   ]
  },
  {
   "cell_type": "code",
   "execution_count": 40,
   "id": "1658345f",
   "metadata": {},
   "outputs": [
    {
     "name": "stdout",
     "output_type": "stream",
     "text": [
      "[[0 0 0 0]\n",
      " [1 0 0 0]]\n"
     ]
    }
   ],
   "source": [
    "a =np.array([0,0,0,0,1,0,0,0])\n",
    "b = a.reshape(2,4)\n",
    "print(b)"
   ]
  },
  {
   "cell_type": "code",
   "execution_count": 42,
   "id": "db17af0c",
   "metadata": {},
   "outputs": [
    {
     "name": "stdout",
     "output_type": "stream",
     "text": [
      "[[1. 2. 3.]\n",
      " [4. 5. 6.]]\n"
     ]
    }
   ],
   "source": [
    "array_a = np.array([[1,2,3],[4,5,6]], dtype = np.float16)\n",
    "print(array_a)"
   ]
  },
  {
   "cell_type": "code",
   "execution_count": null,
   "id": "f1d76b3c",
   "metadata": {},
   "outputs": [],
   "source": [
    "import numpy as np\n",
    "\n",
    "array_a = np.array([[1,2,3],[4,5,6]])\n",
    "array_a\n",
    "\n",
    "array_a = np.array([[1,2,3],[4,5,6]], dtype = np.float16)\n",
    "array_a\n",
    "# Defining all the values as floats (decimals).\n",
    "\n",
    "array_a = np.array([[1,2,3],[4,5,6]], dtype = np.complex64)\n",
    "array_a\n",
    "# Defining all the values as complex numbers.\n",
    "\n",
    "array_a = np.array([[1,2,0],[4,5,6]], dtype = np.bool)\n",
    "array_a\n",
    "# Defining all the values as Booleans.\n",
    "\n",
    "array_a = np.array([[10,2,3],[4,5,6]], dtype = np.str)\n",
    "array_a\n",
    "# Defining all the values as text."
   ]
  },
  {
   "cell_type": "code",
   "execution_count": null,
   "id": "0bddb56c",
   "metadata": {},
   "outputs": [],
   "source": [
    "Basics slicing :\n",
    "In this skill will explain what basics slicing is and go through a few examples :\n",
    "\n",
    "import numpy as np\n",
    "matrix_A = np.array([[1,2,3],[4,5,6]])\n",
    "matrix_A\n",
    "\n",
    "matrix_A[:]\n",
    "## The default start and stop for slicing are the origin and the end of the array. \n",
    "## Hence, [:] includes the entire array. \n",
    "\n",
    "type(matrix_A[:,:])\n",
    "## [:,:] -> All rows, and all columns.\n",
    "\n",
    "matrix_A[:2]\n",
    "# [:2] -> All the rows up to the 3rd one (excluding the third one).\n",
    "\n",
    "matrix_A[:-1]\n",
    "# [:-1] -> All the rows up to the last one.\n",
    "\n",
    "matrix_A[:,1:]\n",
    "# All the rows, but only the columns from the one with index 1 (second column) onwards.\n",
    "\n",
    "matrix_A[1:,1:]\n",
    "# All the rows after the first one and all the column after the first one."
   ]
  },
  {
   "cell_type": "code",
   "execution_count": 8,
   "id": "1186d505",
   "metadata": {},
   "outputs": [
    {
     "name": "stdout",
     "output_type": "stream",
     "text": [
      "Mean Grade: 87.5\n",
      "Median Grade: 88.5\n",
      "Standard Deviation: 6.591661399070799\n",
      "Maximum Grade: 98\n",
      "Minimum Grade: 75\n",
      "Sorted Grades: [75 80 83 85 88 89 90 92 95 98]\n",
      "Index of Highest Grade: 7\n",
      "Number of Students Above 90: 3\n",
      "Percentage of Students Above 90: 30.0\n",
      "Percentage of Students Below 75: 0.0\n",
      "High Performance Grades: [92 95 98]\n",
      "Passing Grades (Above 75): [85 90 88 92 95 80 98 89 83]\n"
     ]
    }
   ],
   "source": [
    "import numpy as np\n",
    "\n",
    "grades = np.array([85, 90, 88, 92, 95, 80, 75, 98, 89, 83])\n",
    "\n",
    "\n",
    "mean_grade = np.mean(grades)\n",
    "median_grade = np.median(grades)\n",
    "std_deviation = np.std(grades)\n",
    "\n",
    "\n",
    "max_grade = np.max(grades)\n",
    "min_grade = np.min(grades)\n",
    "\n",
    "\n",
    "sorted_grades = np.sort(grades)\n",
    "\n",
    "\n",
    "index_highest_grade = np.argmax(grades)\n",
    "\n",
    "\n",
    "num_above_90 = np.sum(grades > 90)\n",
    "\n",
    "\n",
    "percentage_above_90 = np.mean(grades > 90) * 100\n",
    "\n",
    "\n",
    "percentage_below_75 = np.mean(grades < 75) * 100\n",
    "\n",
    "\n",
    "high_performance = grades[grades > 90]\n",
    "\n",
    "\n",
    "passing_grades = grades[grades > 75]\n",
    "\n",
    "\n",
    "print(\"Mean Grade:\", mean_grade)\n",
    "print(\"Median Grade:\", median_grade)\n",
    "print(\"Standard Deviation:\", std_deviation)\n",
    "print(\"Maximum Grade:\", max_grade)\n",
    "print(\"Minimum Grade:\", min_grade)\n",
    "print(\"Sorted Grades:\", sorted_grades)\n",
    "print(\"Index of Highest Grade:\", index_highest_grade)\n",
    "print(\"Number of Students Above 90:\", num_above_90)\n",
    "print(\"Percentage of Students Above 90:\", percentage_above_90)\n",
    "print(\"Percentage of Students Below 75:\", percentage_below_75)\n",
    "print(\"High Performance Grades:\", high_performance)\n",
    "print(\"Passing Grades (Above 75):\", passing_grades)\n"
   ]
  },
  {
   "cell_type": "code",
   "execution_count": null,
   "id": "723acbdb",
   "metadata": {},
   "outputs": [],
   "source": []
  }
 ],
 "metadata": {
  "kernelspec": {
   "display_name": "Python 3 (ipykernel)",
   "language": "python",
   "name": "python3"
  },
  "language_info": {
   "codemirror_mode": {
    "name": "ipython",
    "version": 3
   },
   "file_extension": ".py",
   "mimetype": "text/x-python",
   "name": "python",
   "nbconvert_exporter": "python",
   "pygments_lexer": "ipython3",
   "version": "3.11.5"
  }
 },
 "nbformat": 4,
 "nbformat_minor": 5
}
