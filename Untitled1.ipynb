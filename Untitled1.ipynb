{
 "cells": [
  {
   "cell_type": "code",
   "execution_count": 9,
   "id": "4e198cd8",
   "metadata": {
    "scrolled": true
   },
   "outputs": [
    {
     "name": "stdout",
     "output_type": "stream",
     "text": [
      "Hello, world!\n"
     ]
    }
   ],
   "source": [
    "print('Hello, world!')"
   ]
  },
  {
   "cell_type": "code",
   "execution_count": 15,
   "id": "49dcc13c",
   "metadata": {},
   "outputs": [
    {
     "name": "stdout",
     "output_type": "stream",
     "text": [
      "wech\n",
      "cava?\n",
      "\n"
     ]
    }
   ],
   "source": [
    "print('wech\\ncava?\\n')"
   ]
  },
  {
   "cell_type": "code",
   "execution_count": 20,
   "id": "f7bf86f2",
   "metadata": {},
   "outputs": [
    {
     "name": "stdout",
     "output_type": "stream",
     "text": [
      "gomycode\n"
     ]
    }
   ],
   "source": [
    "print('go'+''+'my'+'code')"
   ]
  },
  {
   "cell_type": "code",
   "execution_count": 28,
   "id": "33a73a0c",
   "metadata": {},
   "outputs": [
    {
     "ename": "KeyboardInterrupt",
     "evalue": "Interrupted by user",
     "output_type": "error",
     "traceback": [
      "\u001b[1;31m---------------------------------------------------------------------------\u001b[0m",
      "\u001b[1;31mKeyboardInterrupt\u001b[0m                         Traceback (most recent call last)",
      "Cell \u001b[1;32mIn[28], line 1\u001b[0m\n\u001b[1;32m----> 1\u001b[0m \u001b[38;5;28minput\u001b[39m(\u001b[38;5;124m'\u001b[39m\u001b[38;5;124mwhats your name?\u001b[39m\u001b[38;5;124m'\u001b[39m)\n",
      "File \u001b[1;32m~\\anaconda3\\Lib\\site-packages\\ipykernel\\kernelbase.py:1202\u001b[0m, in \u001b[0;36mKernel.raw_input\u001b[1;34m(self, prompt)\u001b[0m\n\u001b[0;32m   1200\u001b[0m     msg \u001b[38;5;241m=\u001b[39m \u001b[38;5;124m\"\u001b[39m\u001b[38;5;124mraw_input was called, but this frontend does not support input requests.\u001b[39m\u001b[38;5;124m\"\u001b[39m\n\u001b[0;32m   1201\u001b[0m     \u001b[38;5;28;01mraise\u001b[39;00m StdinNotImplementedError(msg)\n\u001b[1;32m-> 1202\u001b[0m \u001b[38;5;28;01mreturn\u001b[39;00m \u001b[38;5;28mself\u001b[39m\u001b[38;5;241m.\u001b[39m_input_request(\n\u001b[0;32m   1203\u001b[0m     \u001b[38;5;28mstr\u001b[39m(prompt),\n\u001b[0;32m   1204\u001b[0m     \u001b[38;5;28mself\u001b[39m\u001b[38;5;241m.\u001b[39m_parent_ident[\u001b[38;5;124m\"\u001b[39m\u001b[38;5;124mshell\u001b[39m\u001b[38;5;124m\"\u001b[39m],\n\u001b[0;32m   1205\u001b[0m     \u001b[38;5;28mself\u001b[39m\u001b[38;5;241m.\u001b[39mget_parent(\u001b[38;5;124m\"\u001b[39m\u001b[38;5;124mshell\u001b[39m\u001b[38;5;124m\"\u001b[39m),\n\u001b[0;32m   1206\u001b[0m     password\u001b[38;5;241m=\u001b[39m\u001b[38;5;28;01mFalse\u001b[39;00m,\n\u001b[0;32m   1207\u001b[0m )\n",
      "File \u001b[1;32m~\\anaconda3\\Lib\\site-packages\\ipykernel\\kernelbase.py:1245\u001b[0m, in \u001b[0;36mKernel._input_request\u001b[1;34m(self, prompt, ident, parent, password)\u001b[0m\n\u001b[0;32m   1242\u001b[0m \u001b[38;5;28;01mexcept\u001b[39;00m \u001b[38;5;167;01mKeyboardInterrupt\u001b[39;00m:\n\u001b[0;32m   1243\u001b[0m     \u001b[38;5;66;03m# re-raise KeyboardInterrupt, to truncate traceback\u001b[39;00m\n\u001b[0;32m   1244\u001b[0m     msg \u001b[38;5;241m=\u001b[39m \u001b[38;5;124m\"\u001b[39m\u001b[38;5;124mInterrupted by user\u001b[39m\u001b[38;5;124m\"\u001b[39m\n\u001b[1;32m-> 1245\u001b[0m     \u001b[38;5;28;01mraise\u001b[39;00m \u001b[38;5;167;01mKeyboardInterrupt\u001b[39;00m(msg) \u001b[38;5;28;01mfrom\u001b[39;00m \u001b[38;5;28;01mNone\u001b[39;00m\n\u001b[0;32m   1246\u001b[0m \u001b[38;5;28;01mexcept\u001b[39;00m \u001b[38;5;167;01mException\u001b[39;00m:\n\u001b[0;32m   1247\u001b[0m     \u001b[38;5;28mself\u001b[39m\u001b[38;5;241m.\u001b[39mlog\u001b[38;5;241m.\u001b[39mwarning(\u001b[38;5;124m\"\u001b[39m\u001b[38;5;124mInvalid Message:\u001b[39m\u001b[38;5;124m\"\u001b[39m, exc_info\u001b[38;5;241m=\u001b[39m\u001b[38;5;28;01mTrue\u001b[39;00m)\n",
      "\u001b[1;31mKeyboardInterrupt\u001b[0m: Interrupted by user"
     ]
    }
   ],
   "source": [
    "input('whats your name?')"
   ]
  },
  {
   "cell_type": "code",
   "execution_count": 26,
   "id": "e5898e73",
   "metadata": {},
   "outputs": [
    {
     "name": "stdout",
     "output_type": "stream",
     "text": [
      "whats your name?jhbkjb\n"
     ]
    },
    {
     "data": {
      "text/plain": [
       "'jhbkjb'"
      ]
     },
     "execution_count": 26,
     "metadata": {},
     "output_type": "execute_result"
    }
   ],
   "source": [
    "input('whats your name?')"
   ]
  },
  {
   "cell_type": "code",
   "execution_count": 30,
   "id": "ed63a752",
   "metadata": {},
   "outputs": [
    {
     "name": "stdout",
     "output_type": "stream",
     "text": [
      "Day 1 - String Manipulation\n",
      "String Concatenation is done with the \"+\" sign.\n",
      "e.g. print(\"Hello \" + \"world\")\n",
      "New lines can be created with a backslash and n.\n"
     ]
    }
   ],
   "source": [
    "print('Day 1 - String Manipulation')\n",
    "print('String Concatenation is done with the \"+\" sign.')\n",
    "print('e.g. print(\"Hello \" + \"world\")')\n",
    "print('New lines can be created with a backslash and n.')"
   ]
  },
  {
   "cell_type": "code",
   "execution_count": 38,
   "id": "e79a68a4",
   "metadata": {},
   "outputs": [
    {
     "name": "stdout",
     "output_type": "stream",
     "text": [
      "Entrez un nombre0\n",
      "ce numero est non positif\n"
     ]
    }
   ],
   "source": [
    "num=int(input('Entrez un nombre'))\n",
    "if num >0:\n",
    "    print('Ce numero est positif')\n",
    "else:\n",
    "    print('ce numero est non positif')"
   ]
  },
  {
   "cell_type": "code",
   "execution_count": 41,
   "id": "567f0995",
   "metadata": {},
   "outputs": [
    {
     "name": "stdout",
     "output_type": "stream",
     "text": [
      "Entrez un nombre-2\n",
      "Ce nombre est negatif\n"
     ]
    }
   ],
   "source": [
    "num=int(input('Entrez un nombre'))\n",
    "if num>=0:\n",
    "    print('Ce nombre est positif')\n",
    "else:\n",
    "    print('Ce nombre est negatif')"
   ]
  },
  {
   "cell_type": "code",
   "execution_count": 17,
   "id": "f575e598",
   "metadata": {},
   "outputs": [
    {
     "name": "stdout",
     "output_type": "stream",
     "text": [
      "Entrez la note16\n",
      "trés bien\n"
     ]
    }
   ],
   "source": [
    "num=float(input('Entrez la note'))\n",
    "if num>15:\n",
    "    print('trés bien')\n",
    "elif num>13:\n",
    "    print('bien')\n",
    "elif num>10:\n",
    "    print('moyen')\n",
    "else:\n",
    "    print('pas bien')"
   ]
  },
  {
   "cell_type": "code",
   "execution_count": 39,
   "id": "0dda78d1",
   "metadata": {},
   "outputs": [
    {
     "ename": "SyntaxError",
     "evalue": "invalid syntax. Maybe you meant '==' or ':=' instead of '='? (1113347676.py, line 5)",
     "output_type": "error",
     "traceback": [
      "\u001b[1;36m  Cell \u001b[1;32mIn[39], line 5\u001b[1;36m\u001b[0m\n\u001b[1;33m    if y=\"oui\":\u001b[0m\n\u001b[1;37m       ^\u001b[0m\n\u001b[1;31mSyntaxError\u001b[0m\u001b[1;31m:\u001b[0m invalid syntax. Maybe you meant '==' or ':=' instead of '='?\n"
     ]
    }
   ],
   "source": [
    "x=float(input('Renseignez la note'))\n",
    "y=input('Est t-il insrict a une activité sportive?')\n",
    "\n",
    "if x>10:\n",
    "    if y=\"oui\":\n",
    "        x=x+1\n",
    "    print(\"très bien\")\n",
    "elif x<10 and y==\"non\":\n",
    "    print('nul')\n",
    "elif x<10 and y==\"oui\":\n",
    "    x=x+1\n",
    "    print('nul')\n",
    "else:\n",
    "    print('trés bien')\n",
    "print(\"la note est:\",x)"
   ]
  },
  {
   "cell_type": "code",
   "execution_count": 43,
   "id": "c75cea29",
   "metadata": {},
   "outputs": [
    {
     "name": "stdout",
     "output_type": "stream",
     "text": [
      "Renseignez la note15\n",
      "Est t-il insrict a une activité sportive?oui\n",
      "très bien\n"
     ]
    }
   ],
   "source": [
    "x=float(input('Renseignez la note'))\n",
    "y=input('Est t-il insrict a une activité sportive?')\n",
    "\n",
    "if x>10:\n",
    "    if y==\"oui\":\n",
    "        x=x+1\n",
    "    print(\"très bien\")"
   ]
  },
  {
   "cell_type": "code",
   "execution_count": 46,
   "id": "73f85c71",
   "metadata": {},
   "outputs": [
    {
     "ename": "SyntaxError",
     "evalue": "invalid syntax (2815216927.py, line 2)",
     "output_type": "error",
     "traceback": [
      "\u001b[1;36m  Cell \u001b[1;32mIn[46], line 2\u001b[1;36m\u001b[0m\n\u001b[1;33m    n modulo(2%)\u001b[0m\n\u001b[1;37m      ^\u001b[0m\n\u001b[1;31mSyntaxError\u001b[0m\u001b[1;31m:\u001b[0m invalid syntax\n"
     ]
    }
   ],
   "source": [
    "n=float(input('Rentrez un nombre'))\n",
    "if n%2==0:\n",
    "    print(\"pair\")"
   ]
  },
  {
   "cell_type": "code",
   "execution_count": null,
   "id": "e88612ba",
   "metadata": {},
   "outputs": [],
   "source": []
  }
 ],
 "metadata": {
  "kernelspec": {
   "display_name": "Python 3 (ipykernel)",
   "language": "python",
   "name": "python3"
  },
  "language_info": {
   "codemirror_mode": {
    "name": "ipython",
    "version": 3
   },
   "file_extension": ".py",
   "mimetype": "text/x-python",
   "name": "python",
   "nbconvert_exporter": "python",
   "pygments_lexer": "ipython3",
   "version": "3.11.5"
  }
 },
 "nbformat": 4,
 "nbformat_minor": 5
}
