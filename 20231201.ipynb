{
 "cells": [
  {
   "cell_type": "code",
   "execution_count": 9,
   "id": "4e198cd8",
   "metadata": {
    "scrolled": true
   },
   "outputs": [
    {
     "name": "stdout",
     "output_type": "stream",
     "text": [
      "Hello, world!\n"
     ]
    }
   ],
   "source": [
    "print('Hello, world!')"
   ]
  },
  {
   "cell_type": "code",
   "execution_count": 15,
   "id": "49dcc13c",
   "metadata": {},
   "outputs": [
    {
     "name": "stdout",
     "output_type": "stream",
     "text": [
      "wech\n",
      "cava?\n",
      "\n"
     ]
    }
   ],
   "source": [
    "print('wech\\ncava?\\n')"
   ]
  },
  {
   "cell_type": "code",
   "execution_count": 20,
   "id": "f7bf86f2",
   "metadata": {},
   "outputs": [
    {
     "name": "stdout",
     "output_type": "stream",
     "text": [
      "gomycode\n"
     ]
    }
   ],
   "source": [
    "print('go'+''+'my'+'code')"
   ]
  },
  {
   "cell_type": "code",
   "execution_count": 28,
   "id": "33a73a0c",
   "metadata": {},
   "outputs": [
    {
     "ename": "KeyboardInterrupt",
     "evalue": "Interrupted by user",
     "output_type": "error",
     "traceback": [
      "\u001b[1;31m---------------------------------------------------------------------------\u001b[0m",
      "\u001b[1;31mKeyboardInterrupt\u001b[0m                         Traceback (most recent call last)",
      "Cell \u001b[1;32mIn[28], line 1\u001b[0m\n\u001b[1;32m----> 1\u001b[0m \u001b[38;5;28minput\u001b[39m(\u001b[38;5;124m'\u001b[39m\u001b[38;5;124mwhats your name?\u001b[39m\u001b[38;5;124m'\u001b[39m)\n",
      "File \u001b[1;32m~\\anaconda3\\Lib\\site-packages\\ipykernel\\kernelbase.py:1202\u001b[0m, in \u001b[0;36mKernel.raw_input\u001b[1;34m(self, prompt)\u001b[0m\n\u001b[0;32m   1200\u001b[0m     msg \u001b[38;5;241m=\u001b[39m \u001b[38;5;124m\"\u001b[39m\u001b[38;5;124mraw_input was called, but this frontend does not support input requests.\u001b[39m\u001b[38;5;124m\"\u001b[39m\n\u001b[0;32m   1201\u001b[0m     \u001b[38;5;28;01mraise\u001b[39;00m StdinNotImplementedError(msg)\n\u001b[1;32m-> 1202\u001b[0m \u001b[38;5;28;01mreturn\u001b[39;00m \u001b[38;5;28mself\u001b[39m\u001b[38;5;241m.\u001b[39m_input_request(\n\u001b[0;32m   1203\u001b[0m     \u001b[38;5;28mstr\u001b[39m(prompt),\n\u001b[0;32m   1204\u001b[0m     \u001b[38;5;28mself\u001b[39m\u001b[38;5;241m.\u001b[39m_parent_ident[\u001b[38;5;124m\"\u001b[39m\u001b[38;5;124mshell\u001b[39m\u001b[38;5;124m\"\u001b[39m],\n\u001b[0;32m   1205\u001b[0m     \u001b[38;5;28mself\u001b[39m\u001b[38;5;241m.\u001b[39mget_parent(\u001b[38;5;124m\"\u001b[39m\u001b[38;5;124mshell\u001b[39m\u001b[38;5;124m\"\u001b[39m),\n\u001b[0;32m   1206\u001b[0m     password\u001b[38;5;241m=\u001b[39m\u001b[38;5;28;01mFalse\u001b[39;00m,\n\u001b[0;32m   1207\u001b[0m )\n",
      "File \u001b[1;32m~\\anaconda3\\Lib\\site-packages\\ipykernel\\kernelbase.py:1245\u001b[0m, in \u001b[0;36mKernel._input_request\u001b[1;34m(self, prompt, ident, parent, password)\u001b[0m\n\u001b[0;32m   1242\u001b[0m \u001b[38;5;28;01mexcept\u001b[39;00m \u001b[38;5;167;01mKeyboardInterrupt\u001b[39;00m:\n\u001b[0;32m   1243\u001b[0m     \u001b[38;5;66;03m# re-raise KeyboardInterrupt, to truncate traceback\u001b[39;00m\n\u001b[0;32m   1244\u001b[0m     msg \u001b[38;5;241m=\u001b[39m \u001b[38;5;124m\"\u001b[39m\u001b[38;5;124mInterrupted by user\u001b[39m\u001b[38;5;124m\"\u001b[39m\n\u001b[1;32m-> 1245\u001b[0m     \u001b[38;5;28;01mraise\u001b[39;00m \u001b[38;5;167;01mKeyboardInterrupt\u001b[39;00m(msg) \u001b[38;5;28;01mfrom\u001b[39;00m \u001b[38;5;28;01mNone\u001b[39;00m\n\u001b[0;32m   1246\u001b[0m \u001b[38;5;28;01mexcept\u001b[39;00m \u001b[38;5;167;01mException\u001b[39;00m:\n\u001b[0;32m   1247\u001b[0m     \u001b[38;5;28mself\u001b[39m\u001b[38;5;241m.\u001b[39mlog\u001b[38;5;241m.\u001b[39mwarning(\u001b[38;5;124m\"\u001b[39m\u001b[38;5;124mInvalid Message:\u001b[39m\u001b[38;5;124m\"\u001b[39m, exc_info\u001b[38;5;241m=\u001b[39m\u001b[38;5;28;01mTrue\u001b[39;00m)\n",
      "\u001b[1;31mKeyboardInterrupt\u001b[0m: Interrupted by user"
     ]
    }
   ],
   "source": [
    "input('whats your name?')"
   ]
  },
  {
   "cell_type": "code",
   "execution_count": 26,
   "id": "e5898e73",
   "metadata": {},
   "outputs": [
    {
     "name": "stdout",
     "output_type": "stream",
     "text": [
      "whats your name?jhbkjb\n"
     ]
    },
    {
     "data": {
      "text/plain": [
       "'jhbkjb'"
      ]
     },
     "execution_count": 26,
     "metadata": {},
     "output_type": "execute_result"
    }
   ],
   "source": [
    "input('whats your name?')"
   ]
  },
  {
   "cell_type": "code",
   "execution_count": 30,
   "id": "ed63a752",
   "metadata": {},
   "outputs": [
    {
     "name": "stdout",
     "output_type": "stream",
     "text": [
      "Day 1 - String Manipulation\n",
      "String Concatenation is done with the \"+\" sign.\n",
      "e.g. print(\"Hello \" + \"world\")\n",
      "New lines can be created with a backslash and n.\n"
     ]
    }
   ],
   "source": [
    "print('Day 1 - String Manipulation')\n",
    "print('String Concatenation is done with the \"+\" sign.')\n",
    "print('e.g. print(\"Hello \" + \"world\")')\n",
    "print('New lines can be created with a backslash and n.')"
   ]
  },
  {
   "cell_type": "code",
   "execution_count": 38,
   "id": "e79a68a4",
   "metadata": {},
   "outputs": [
    {
     "name": "stdout",
     "output_type": "stream",
     "text": [
      "Entrez un nombre0\n",
      "ce numero est non positif\n"
     ]
    }
   ],
   "source": [
    "num=int(input('Entrez un nombre'))\n",
    "if num >0:\n",
    "    print('Ce numero est positif')\n",
    "else:\n",
    "    print('ce numero est non positif')"
   ]
  },
  {
   "cell_type": "code",
   "execution_count": 41,
   "id": "567f0995",
   "metadata": {},
   "outputs": [
    {
     "name": "stdout",
     "output_type": "stream",
     "text": [
      "Entrez un nombre-2\n",
      "Ce nombre est negatif\n"
     ]
    }
   ],
   "source": [
    "num=int(input('Entrez un nombre'))\n",
    "if num>=0:\n",
    "    print('Ce nombre est positif')\n",
    "else:\n",
    "    print('Ce nombre est negatif')"
   ]
  },
  {
   "cell_type": "code",
   "execution_count": 17,
   "id": "f575e598",
   "metadata": {},
   "outputs": [
    {
     "name": "stdout",
     "output_type": "stream",
     "text": [
      "Entrez la note16\n",
      "trés bien\n"
     ]
    }
   ],
   "source": [
    "num=float(input('Entrez la note'))\n",
    "if num>15:\n",
    "    print('trés bien')\n",
    "elif num>13:\n",
    "    print('bien')\n",
    "elif num>10:\n",
    "    print('moyen')\n",
    "else:\n",
    "    print('pas bien')"
   ]
  },
  {
   "cell_type": "code",
   "execution_count": 16,
   "id": "0dda78d1",
   "metadata": {},
   "outputs": [
    {
     "name": "stdout",
     "output_type": "stream",
     "text": [
      "Renseignez la note16\n",
      "Est t-il insrict a une activité sportive?oui\n",
      "très bien\n",
      "la note est: 17.0\n"
     ]
    }
   ],
   "source": [
    "x=float(input('Renseignez la note'))\n",
    "y=input('Est t-il insrict a une activité sportive?')\n",
    "\n",
    "if x>10:\n",
    "    if y==\"oui\":\n",
    "        x=x+1\n",
    "    print(\"très bien\")\n",
    "elif x<10 and y==\"non\":\n",
    "    print('nul')\n",
    "elif x<10 and y==\"oui\":\n",
    "    x=x+1\n",
    "    print('nul')\n",
    "else:\n",
    "    print('trés bien')\n",
    "print(\"la note est:\",x)"
   ]
  },
  {
   "cell_type": "code",
   "execution_count": 43,
   "id": "7cf58a12",
   "metadata": {},
   "outputs": [
    {
     "name": "stdout",
     "output_type": "stream",
     "text": [
      "Renseignez la note15\n",
      "Est t-il insrict a une activité sportive?oui\n",
      "très bien\n"
     ]
    }
   ],
   "source": [
    "x=float(input('Renseignez la note'))\n",
    "y=input('Est t-il insrict a une activité sportive?')\n",
    "\n",
    "if x>10:\n",
    "    if y==\"oui\":\n",
    "        x=x+1\n",
    "    print(\"très bien\")"
   ]
  },
  {
   "cell_type": "code",
   "execution_count": 1,
   "id": "ce96d854",
   "metadata": {},
   "outputs": [
    {
     "name": "stdout",
     "output_type": "stream",
     "text": [
      "Rentrez un nombre3\n",
      "impair\n"
     ]
    }
   ],
   "source": [
    "n=float(input('Rentrez un nombre'))\n",
    "if n%2==0:\n",
    "    print(\"pair\")\n",
    "else:\n",
    "    print('impair')"
   ]
  },
  {
   "cell_type": "code",
   "execution_count": 2,
   "id": "d700c864",
   "metadata": {},
   "outputs": [
    {
     "name": "stdout",
     "output_type": "stream",
     "text": [
      "3\n"
     ]
    }
   ],
   "source": [
    "print(round(8/3))"
   ]
  },
  {
   "cell_type": "code",
   "execution_count": null,
   "id": "71858943",
   "metadata": {},
   "outputs": [],
   "source": [
    "x=int(input('quel est votre age?'))\n",
    "y=90-x\n",
    "z=y*12\n",
    "s=y*52\n",
    "d=y*365\n",
    "print(f\"You have {d} days, {s} weeks, and {z} months left\")"
   ]
  },
  {
   "cell_type": "code",
   "execution_count": 2,
   "id": "7a7b32a4",
   "metadata": {},
   "outputs": [
    {
     "ename": "KeyboardInterrupt",
     "evalue": "Interrupted by user",
     "output_type": "error",
     "traceback": [
      "\u001b[1;31m---------------------------------------------------------------------------\u001b[0m",
      "\u001b[1;31mKeyboardInterrupt\u001b[0m                         Traceback (most recent call last)",
      "Cell \u001b[1;32mIn[2], line 5\u001b[0m\n\u001b[0;32m      3\u001b[0m b\u001b[38;5;241m=\u001b[39m\u001b[38;5;28;01mTrue\u001b[39;00m\n\u001b[0;32m      4\u001b[0m \u001b[38;5;28;01mwhile\u001b[39;00m b\u001b[38;5;241m==\u001b[39m\u001b[38;5;28;01mTrue\u001b[39;00m:\n\u001b[1;32m----> 5\u001b[0m     y\u001b[38;5;241m=\u001b[39m\u001b[38;5;28mint\u001b[39m(\u001b[38;5;28minput\u001b[39m(\u001b[38;5;124m'\u001b[39m\u001b[38;5;124mEntrez un nombre entre 0 et 5\u001b[39m\u001b[38;5;124m'\u001b[39m))\n\u001b[0;32m      6\u001b[0m     \u001b[38;5;28;01mif\u001b[39;00m y\u001b[38;5;241m>\u001b[39mx:\n\u001b[0;32m      7\u001b[0m         \u001b[38;5;28mprint\u001b[39m(\u001b[38;5;124m'\u001b[39m\u001b[38;5;124mRentrez un nombrez plus petit\u001b[39m\u001b[38;5;124m'\u001b[39m)\n",
      "File \u001b[1;32m~\\anaconda3\\Lib\\site-packages\\ipykernel\\kernelbase.py:1202\u001b[0m, in \u001b[0;36mKernel.raw_input\u001b[1;34m(self, prompt)\u001b[0m\n\u001b[0;32m   1200\u001b[0m     msg \u001b[38;5;241m=\u001b[39m \u001b[38;5;124m\"\u001b[39m\u001b[38;5;124mraw_input was called, but this frontend does not support input requests.\u001b[39m\u001b[38;5;124m\"\u001b[39m\n\u001b[0;32m   1201\u001b[0m     \u001b[38;5;28;01mraise\u001b[39;00m StdinNotImplementedError(msg)\n\u001b[1;32m-> 1202\u001b[0m \u001b[38;5;28;01mreturn\u001b[39;00m \u001b[38;5;28mself\u001b[39m\u001b[38;5;241m.\u001b[39m_input_request(\n\u001b[0;32m   1203\u001b[0m     \u001b[38;5;28mstr\u001b[39m(prompt),\n\u001b[0;32m   1204\u001b[0m     \u001b[38;5;28mself\u001b[39m\u001b[38;5;241m.\u001b[39m_parent_ident[\u001b[38;5;124m\"\u001b[39m\u001b[38;5;124mshell\u001b[39m\u001b[38;5;124m\"\u001b[39m],\n\u001b[0;32m   1205\u001b[0m     \u001b[38;5;28mself\u001b[39m\u001b[38;5;241m.\u001b[39mget_parent(\u001b[38;5;124m\"\u001b[39m\u001b[38;5;124mshell\u001b[39m\u001b[38;5;124m\"\u001b[39m),\n\u001b[0;32m   1206\u001b[0m     password\u001b[38;5;241m=\u001b[39m\u001b[38;5;28;01mFalse\u001b[39;00m,\n\u001b[0;32m   1207\u001b[0m )\n",
      "File \u001b[1;32m~\\anaconda3\\Lib\\site-packages\\ipykernel\\kernelbase.py:1245\u001b[0m, in \u001b[0;36mKernel._input_request\u001b[1;34m(self, prompt, ident, parent, password)\u001b[0m\n\u001b[0;32m   1242\u001b[0m \u001b[38;5;28;01mexcept\u001b[39;00m \u001b[38;5;167;01mKeyboardInterrupt\u001b[39;00m:\n\u001b[0;32m   1243\u001b[0m     \u001b[38;5;66;03m# re-raise KeyboardInterrupt, to truncate traceback\u001b[39;00m\n\u001b[0;32m   1244\u001b[0m     msg \u001b[38;5;241m=\u001b[39m \u001b[38;5;124m\"\u001b[39m\u001b[38;5;124mInterrupted by user\u001b[39m\u001b[38;5;124m\"\u001b[39m\n\u001b[1;32m-> 1245\u001b[0m     \u001b[38;5;28;01mraise\u001b[39;00m \u001b[38;5;167;01mKeyboardInterrupt\u001b[39;00m(msg) \u001b[38;5;28;01mfrom\u001b[39;00m \u001b[38;5;28;01mNone\u001b[39;00m\n\u001b[0;32m   1246\u001b[0m \u001b[38;5;28;01mexcept\u001b[39;00m \u001b[38;5;167;01mException\u001b[39;00m:\n\u001b[0;32m   1247\u001b[0m     \u001b[38;5;28mself\u001b[39m\u001b[38;5;241m.\u001b[39mlog\u001b[38;5;241m.\u001b[39mwarning(\u001b[38;5;124m\"\u001b[39m\u001b[38;5;124mInvalid Message:\u001b[39m\u001b[38;5;124m\"\u001b[39m, exc_info\u001b[38;5;241m=\u001b[39m\u001b[38;5;28;01mTrue\u001b[39;00m)\n",
      "\u001b[1;31mKeyboardInterrupt\u001b[0m: Interrupted by user"
     ]
    }
   ],
   "source": [
    "import numpy as np\n",
    "x=np.random.randint(0,5)\n",
    "b=True\n",
    "while b==True:\n",
    "    y=int(input('Entrez un nombre entre 0 et 5'))\n",
    "    if y>x:\n",
    "        print('Rentrez un nombrez plus petit')\n",
    "    elif y<x:\n",
    "        print('Rentrez un nombre plus grand')\n",
    "    else:\n",
    "        print('Tres bien')\n",
    "        b=False"
   ]
  },
  {
   "cell_type": "code",
   "execution_count": 13,
   "id": "c0d13217",
   "metadata": {},
   "outputs": [
    {
     "name": "stdout",
     "output_type": "stream",
     "text": [
      "0\n",
      "1\n",
      "2\n",
      "3\n",
      "4\n",
      "5\n"
     ]
    }
   ],
   "source": [
    "for i in range(6):\n",
    "    print(i)\n"
   ]
  },
  {
   "cell_type": "code",
   "execution_count": 16,
   "id": "e42b32e0",
   "metadata": {},
   "outputs": [
    {
     "name": "stdout",
     "output_type": "stream",
     "text": [
      "Entrez un nombre entre 0 et 52\n",
      "Rentrez un nombrez plus petit\n",
      "Entrez un nombre entre 0 et 52\n",
      "Rentrez un nombrez plus petit\n",
      "Entrez un nombre entre 0 et 52\n",
      "Rentrez un nombrez plus petit\n"
     ]
    }
   ],
   "source": [
    "import numpy as np\n",
    "x=np.random.randint(0,5)\n",
    "b=True\n",
    "for i in range(0,3,1):\n",
    "    y=int(input('Entrez un nombre entre 0 et 5'))\n",
    "    if y>x:\n",
    "        print('Rentrez un nombrez plus petit')\n",
    "    elif y<x:\n",
    "        print('Rentrez un nombre plus grand')\n",
    "    else:\n",
    "        print('Tres bien')\n",
    "        break"
   ]
  },
  {
   "cell_type": "code",
   "execution_count": 21,
   "id": "c8cb78de",
   "metadata": {},
   "outputs": [
    {
     "name": "stdout",
     "output_type": "stream",
     "text": [
      "0\n",
      "1\n",
      "2\n",
      "3\n",
      "4\n",
      "5\n"
     ]
    }
   ],
   "source": [
    "i=0\n",
    "while i<6:\n",
    "        print(i)\n",
    "        i+=1"
   ]
  },
  {
   "cell_type": "code",
   "execution_count": 4,
   "id": "01ac00d4",
   "metadata": {},
   "outputs": [
    {
     "name": "stdout",
     "output_type": "stream",
     "text": [
      "Entrez un nombre entre 0 et 52\n",
      "Rentrez un nombrez plus petit\n"
     ]
    },
    {
     "ename": "KeyboardInterrupt",
     "evalue": "Interrupted by user",
     "output_type": "error",
     "traceback": [
      "\u001b[1;31m---------------------------------------------------------------------------\u001b[0m",
      "\u001b[1;31mKeyboardInterrupt\u001b[0m                         Traceback (most recent call last)",
      "Cell \u001b[1;32mIn[4], line 6\u001b[0m\n\u001b[0;32m      4\u001b[0m b\u001b[38;5;241m=\u001b[39m\u001b[38;5;28;01mTrue\u001b[39;00m\n\u001b[0;32m      5\u001b[0m \u001b[38;5;28;01mwhile\u001b[39;00m i\u001b[38;5;241m<\u001b[39m\u001b[38;5;241m4\u001b[39m \u001b[38;5;129;01mand\u001b[39;00m b\u001b[38;5;241m==\u001b[39m\u001b[38;5;28;01mTrue\u001b[39;00m:\n\u001b[1;32m----> 6\u001b[0m     y\u001b[38;5;241m=\u001b[39m\u001b[38;5;28mint\u001b[39m(\u001b[38;5;28minput\u001b[39m(\u001b[38;5;124m'\u001b[39m\u001b[38;5;124mEntrez un nombre entre 0 et 5\u001b[39m\u001b[38;5;124m'\u001b[39m))\n\u001b[0;32m      7\u001b[0m     \u001b[38;5;28;01mif\u001b[39;00m y\u001b[38;5;241m>\u001b[39mx:\n\u001b[0;32m      8\u001b[0m         \u001b[38;5;28mprint\u001b[39m(\u001b[38;5;124m'\u001b[39m\u001b[38;5;124mRentrez un nombrez plus petit\u001b[39m\u001b[38;5;124m'\u001b[39m)\n",
      "File \u001b[1;32m~\\anaconda3\\Lib\\site-packages\\ipykernel\\kernelbase.py:1202\u001b[0m, in \u001b[0;36mKernel.raw_input\u001b[1;34m(self, prompt)\u001b[0m\n\u001b[0;32m   1200\u001b[0m     msg \u001b[38;5;241m=\u001b[39m \u001b[38;5;124m\"\u001b[39m\u001b[38;5;124mraw_input was called, but this frontend does not support input requests.\u001b[39m\u001b[38;5;124m\"\u001b[39m\n\u001b[0;32m   1201\u001b[0m     \u001b[38;5;28;01mraise\u001b[39;00m StdinNotImplementedError(msg)\n\u001b[1;32m-> 1202\u001b[0m \u001b[38;5;28;01mreturn\u001b[39;00m \u001b[38;5;28mself\u001b[39m\u001b[38;5;241m.\u001b[39m_input_request(\n\u001b[0;32m   1203\u001b[0m     \u001b[38;5;28mstr\u001b[39m(prompt),\n\u001b[0;32m   1204\u001b[0m     \u001b[38;5;28mself\u001b[39m\u001b[38;5;241m.\u001b[39m_parent_ident[\u001b[38;5;124m\"\u001b[39m\u001b[38;5;124mshell\u001b[39m\u001b[38;5;124m\"\u001b[39m],\n\u001b[0;32m   1205\u001b[0m     \u001b[38;5;28mself\u001b[39m\u001b[38;5;241m.\u001b[39mget_parent(\u001b[38;5;124m\"\u001b[39m\u001b[38;5;124mshell\u001b[39m\u001b[38;5;124m\"\u001b[39m),\n\u001b[0;32m   1206\u001b[0m     password\u001b[38;5;241m=\u001b[39m\u001b[38;5;28;01mFalse\u001b[39;00m,\n\u001b[0;32m   1207\u001b[0m )\n",
      "File \u001b[1;32m~\\anaconda3\\Lib\\site-packages\\ipykernel\\kernelbase.py:1245\u001b[0m, in \u001b[0;36mKernel._input_request\u001b[1;34m(self, prompt, ident, parent, password)\u001b[0m\n\u001b[0;32m   1242\u001b[0m \u001b[38;5;28;01mexcept\u001b[39;00m \u001b[38;5;167;01mKeyboardInterrupt\u001b[39;00m:\n\u001b[0;32m   1243\u001b[0m     \u001b[38;5;66;03m# re-raise KeyboardInterrupt, to truncate traceback\u001b[39;00m\n\u001b[0;32m   1244\u001b[0m     msg \u001b[38;5;241m=\u001b[39m \u001b[38;5;124m\"\u001b[39m\u001b[38;5;124mInterrupted by user\u001b[39m\u001b[38;5;124m\"\u001b[39m\n\u001b[1;32m-> 1245\u001b[0m     \u001b[38;5;28;01mraise\u001b[39;00m \u001b[38;5;167;01mKeyboardInterrupt\u001b[39;00m(msg) \u001b[38;5;28;01mfrom\u001b[39;00m \u001b[38;5;28;01mNone\u001b[39;00m\n\u001b[0;32m   1246\u001b[0m \u001b[38;5;28;01mexcept\u001b[39;00m \u001b[38;5;167;01mException\u001b[39;00m:\n\u001b[0;32m   1247\u001b[0m     \u001b[38;5;28mself\u001b[39m\u001b[38;5;241m.\u001b[39mlog\u001b[38;5;241m.\u001b[39mwarning(\u001b[38;5;124m\"\u001b[39m\u001b[38;5;124mInvalid Message:\u001b[39m\u001b[38;5;124m\"\u001b[39m, exc_info\u001b[38;5;241m=\u001b[39m\u001b[38;5;28;01mTrue\u001b[39;00m)\n",
      "\u001b[1;31mKeyboardInterrupt\u001b[0m: Interrupted by user"
     ]
    }
   ],
   "source": [
    "import numpy as np\n",
    "x=np.random.randint(0,5)\n",
    "i=1\n",
    "b=True\n",
    "while i<4 and b==True:\n",
    "    y=int(input('Entrez un nombre entre 0 et 5'))\n",
    "    if y>x:\n",
    "        print('Rentrez un nombrez plus petit')\n",
    "    elif y<x:\n",
    "        print('Rentrez un nombre plus grand')\n",
    "    else:\n",
    "        print('tres bien')\n",
    "        b=False\n",
    "    i+=1"
   ]
  },
  {
   "cell_type": "code",
   "execution_count": 39,
   "id": "544f24e1",
   "metadata": {},
   "outputs": [
    {
     "name": "stdout",
     "output_type": "stream",
     "text": [
      "3.141592653589793\n"
     ]
    }
   ],
   "source": [
    "import math\n",
    "print(math.pi)"
   ]
  },
  {
   "cell_type": "code",
   "execution_count": 9,
   "id": "7fb1250e",
   "metadata": {},
   "outputs": [
    {
     "data": {
      "text/plain": [
       "7"
      ]
     },
     "execution_count": 9,
     "metadata": {},
     "output_type": "execute_result"
    }
   ],
   "source": [
    "note=[15,14.5,7,19]\n",
    "note[-2]"
   ]
  },
  {
   "cell_type": "code",
   "execution_count": 12,
   "id": "64862898",
   "metadata": {},
   "outputs": [
    {
     "name": "stdout",
     "output_type": "stream",
     "text": [
      "Rentrez le nombre d\"eleves5\n",
      "Entrez la 1ere note 1\n",
      "Entrez la 2eme note 2\n",
      "Entrez la 3eme note 3\n",
      "Entrez la 4eme note 4\n",
      "Entrez la 5eme note 5\n",
      "la moyenne est 3.0 le max est 5.0 le min est 1.0\n",
      "Rentrez le numéro de l\"elève3\n",
      "la note est 5.0 appreciation nul\n"
     ]
    }
   ],
   "source": [
    "x=int(input('Rentrez le nombre d\"eleves'))\n",
    "l=[]\n",
    "\n",
    "\n",
    "for i in range (x):\n",
    "    if i==0:\n",
    "        y=float(input(f'Entrez la {i+1}ère note '))\n",
    "    else:\n",
    "        y=float(input(f'Entrez la {i+1}ème note '))\n",
    "    \n",
    "    l.append(y)\n",
    "print('la moyenne est',sum(l)/x,'le max est', max(l),'le min est',min(l))\n",
    "\n",
    "z=int(input('Rentrez le numéro de l\"elève'))\n",
    "n=l[z-1]\n",
    "if n>12:\n",
    "    print(f'la note est {y} appreciation bien')\n",
    "elif n==10:\n",
    "    print(f'la note est {y} appreciation passable')\n",
    "elif n<10:\n",
    "    print(f'la note est {y} appreciation nul')\n",
    "else:\n",
    "    print(f'la note est {y} appreciation convenable')\n"
   ]
  },
  {
   "cell_type": "code",
   "execution_count": 5,
   "id": "f17875cd",
   "metadata": {},
   "outputs": [
    {
     "name": "stdout",
     "output_type": "stream",
     "text": [
      "Rentrez le premier nombre15\n",
      "Rentrez le premier operateur+\n",
      "Rentrez le deuxieme nombre5\n",
      "15.0+5.0=20.0\n"
     ]
    }
   ],
   "source": [
    "a=float(input('Rentrez le premier nombre'))\n",
    "b=input('Rentrez le premier operateur')\n",
    "if b not in ('+','-','/','*'):\n",
    "    print('veuillez saisir un operateur')\n",
    "else:\n",
    "    c=float(input('Rentrez le deuxieme nombre'))\n",
    "    while b in ('+','-','/','*'):\n",
    "        if b=='-':\n",
    "            print(f'{a}-{c}={a-c}')\n",
    "            break\n",
    "        elif b =='/':\n",
    "            print(f'{a}/{c}={a/c}')\n",
    "            break\n",
    "        elif b =='*':\n",
    "            print(f'{a}*{c}={a*c}')\n",
    "            break\n",
    "        else:\n",
    "            print(f'{a}+{c}={a+c}')\n",
    "            break"
   ]
  },
  {
   "cell_type": "code",
   "execution_count": 10,
   "id": "fb8640ed",
   "metadata": {},
   "outputs": [
    {
     "name": "stdout",
     "output_type": "stream",
     "text": [
      "Rentrez le premier nombre4\n",
      "entrez le premier operateur4\n",
      "Rentrez le premier operateur4\n",
      "Rentrez le premier operateur4\n",
      "Rentrez le premier operateur4\n",
      "Rentrez le premier operateur*\n",
      "Rentrez le deuxieme nombre2\n",
      "4.0*2.0=8.0\n"
     ]
    }
   ],
   "source": [
    "a=float(input('Rentrez le premier nombre'))\n",
    "b=input('entrez le premier operateur')\n",
    "while b not in ('+','-','/','*'):\n",
    "    b=input('Rentrez le premier operateur')\n",
    "c=float(input('Rentrez le deuxieme nombre'))\n",
    "if b=='-':\n",
    "    print(f'{a}-{c}={a-c}')\n",
    "elif b =='/':\n",
    "    print(f'{a}/{c}={a/c}')\n",
    "elif b =='*':\n",
    "    print(f'{a}*{c}={a*c}')\n",
    "else:\n",
    "    print(f'{a}+{c}={a+c}')"
   ]
  },
  {
   "cell_type": "code",
   "execution_count": 11,
   "id": "29ea1e65",
   "metadata": {},
   "outputs": [
    {
     "name": "stdout",
     "output_type": "stream",
     "text": [
      "Rentrez le premier nombre15\n",
      "Rentrez le premier operateur2\n",
      "Rentrez le premier operateur2\n",
      "Rentrez le premier operateur+\n",
      "Rentrez le deuxieme nombre5\n",
      "15.0+5.0=20.0\n"
     ]
    }
   ],
   "source": [
    "a=float(input('Rentrez le premier nombre'))\n",
    "v=True\n",
    "while v==True:\n",
    "    b=input('Rentrez le premier operateur')\n",
    "    if b in ('+','-','/','*'):\n",
    "        v=False\n",
    "        \n",
    "c=float(input('Rentrez le deuxieme nombre'))\n",
    "if b=='-':\n",
    "    print(f'{a}-{c}={a-c}')\n",
    "elif b =='/':\n",
    "    print(f'{a}/{c}={a/c}')\n",
    "elif b =='*':\n",
    "    print(f'{a}*{c}={a*c}')\n",
    "else:\n",
    "    print(f'{a}+{c}={a+c}')"
   ]
  },
  {
   "cell_type": "code",
   "execution_count": 36,
   "id": "05d64c2a",
   "metadata": {},
   "outputs": [
    {
     "name": "stdout",
     "output_type": "stream",
     "text": [
      "Welcome to Python Pizza Deliveries\n",
      "which size you want?s\n",
      "Do you want pepperoni?y\n",
      "Do you want extra cheese?y\n",
      "Your final bill is: 18$\n"
     ]
    }
   ],
   "source": [
    "print('Welcome to Python Pizza Deliveries')\n",
    "m=20\n",
    "o=15\n",
    "l=25\n",
    "v=True\n",
    "while v==True:\n",
    "    s=input('which size you want?')\n",
    "    if s in ('m','s','l'):\n",
    "        v=False\n",
    "x=True\n",
    "while x==True:\n",
    "    p=input('Do you want pepperoni?')\n",
    "    if p in ('y','n'):\n",
    "        x=False\n",
    "w=True\n",
    "while w==True:\n",
    "    c=input('Do you want extra cheese?')\n",
    "    if c in ('y','n'):\n",
    "        w=False\n",
    "if s=='m':\n",
    "    if c=='y':\n",
    "        if p=='y':\n",
    "            print(f'Your final bill is: {m+1+3}$')\n",
    "        else:\n",
    "            print(f'Your final bill is: {m+1}$')\n",
    "    elif p=='y':\n",
    "        print(f'Your final bill is: {m+3}$')\n",
    "    else:\n",
    "        print(f'Your final bill is: {m}$')\n",
    "elif s=='s':\n",
    "    if c=='y':\n",
    "        if p=='y':\n",
    "            print(f'Your final bill is: {o+1+2}$')\n",
    "        else:\n",
    "            print(f'Your final bill is: {o+1}$')\n",
    "    elif p=='y':\n",
    "        print(f'Your final bill is: {o+2}$')\n",
    "    else:\n",
    "        print(f'Your final bill is: {o}$')\n",
    "else:\n",
    "    if c=='y':\n",
    "        if p=='y':\n",
    "            print(f'Your final bill is: {l+1+3}$')\n",
    "        else:\n",
    "            print(f'Your final bill is: {l+1}$')\n",
    "    elif p=='y':\n",
    "        print(f'Your final bill is: {l+3}$')\n",
    "    else:\n",
    "        print(f'Your final bill is: {l}$')\n",
    "        \n",
    "\n"
   ]
  },
  {
   "cell_type": "code",
   "execution_count": null,
   "id": "399cf91f",
   "metadata": {},
   "outputs": [],
   "source": [
    "   if s=='m' and p=='y':\n",
    "            print(f'Your final bill is: $'{20+1})\n",
    "        elif s=='s' and p=='y':\n",
    "            print(f'Your final bill is: $'{15+1})\n",
    "        elif s=='l' and p=='y':\n",
    "            print(f'Your final bill is: $'{25+1})\n",
    "        elif s=='m' and p=='n':\n",
    "            print(f'Your final bill is: $'{20})\n",
    "        elif s=='s' and p=='n':\n",
    "            print(f'Your final bill is: $'{15})\n",
    "        else s=='m' and p=='n':\n",
    "            print(f'Your final bill is: $'{25})"
   ]
  }
 ],
 "metadata": {
  "kernelspec": {
   "display_name": "Python 3 (ipykernel)",
   "language": "python",
   "name": "python3"
  },
  "language_info": {
   "codemirror_mode": {
    "name": "ipython",
    "version": 3
   },
   "file_extension": ".py",
   "mimetype": "text/x-python",
   "name": "python",
   "nbconvert_exporter": "python",
   "pygments_lexer": "ipython3",
   "version": "3.11.5"
  }
 },
 "nbformat": 4,
 "nbformat_minor": 5
}
